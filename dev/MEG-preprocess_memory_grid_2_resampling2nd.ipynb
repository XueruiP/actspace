{
 "cells": [
  {
   "cell_type": "code",
   "execution_count": 8,
   "metadata": {},
   "outputs": [],
   "source": [
    "import os.path as op\n",
    "import os\n",
    "# import sys\n",
    "import numpy as np\n",
    "import pandas as pd\n",
    "import seaborn as sns\n",
    "from fpdf import FPDF  \n",
    "\n",
    "import mne\n",
    "import matplotlib.pyplot as plt\n",
    "# from mne.time_frequency import psd_multitaper\n",
    "import scipy.stats"
   ]
  },
  {
   "attachments": {},
   "cell_type": "markdown",
   "metadata": {},
   "source": [
    "## Preprocessing"
   ]
  },
  {
   "cell_type": "code",
   "execution_count": 9,
   "metadata": {},
   "outputs": [],
   "source": [
    "# data_path =  'D:\\projects\\WM_GRID\\DATA\\mg99a'\n",
    "# cal_path = 'D:\\projects\\WM_GRID\\DATA\\ctc'\n",
    "# sss_path = 'D:\\projects\\WM_GRID\\DATA\\sss'\n",
    "\n",
    "rawdir =  '/data/pt_02774/memory_grid/'\n",
    "rawdir2 =  '/data/p_02774/memory_grid/'\n",
    "\n",
    "subject_list = ['mg15','mg16','mg17','mg18','mg19','mg20','mg21','mg22','mg23','mg24','mg25','mg26','mg27', 'mg28','mg30','mg31','mg32','mg33','mg34','mg36','mg37','mg38','mg40','mg41','mg44','mg45','mg46','mg47']\n",
    "# subject_list = ['mg28','mg30','mg31','mg32','mg33','mg34','mg36','mg38','mg40','mg41','mg44','mg45','mg46','mg47']\n",
    "# subject_list = ['mg37'] # 'mg29','mg39','mg42'\n",
    "# subject_list= ['mg31']"
   ]
  },
  {
   "cell_type": "code",
   "execution_count": 10,
   "metadata": {},
   "outputs": [
    {
     "data": {
      "text/plain": [
       "['mg15',\n",
       " 'mg16',\n",
       " 'mg17',\n",
       " 'mg18',\n",
       " 'mg19',\n",
       " 'mg20',\n",
       " 'mg21',\n",
       " 'mg22',\n",
       " 'mg23',\n",
       " 'mg24',\n",
       " 'mg25',\n",
       " 'mg26',\n",
       " 'mg27',\n",
       " 'mg28',\n",
       " 'mg30',\n",
       " 'mg31',\n",
       " 'mg32',\n",
       " 'mg33',\n",
       " 'mg34',\n",
       " 'mg36',\n",
       " 'mg37',\n",
       " 'mg38',\n",
       " 'mg40',\n",
       " 'mg41',\n",
       " 'mg44',\n",
       " 'mg45',\n",
       " 'mg46',\n",
       " 'mg47']"
      ]
     },
     "execution_count": 10,
     "metadata": {},
     "output_type": "execute_result"
    }
   ],
   "source": [
    "subject_list[:]"
   ]
  },
  {
   "cell_type": "code",
   "execution_count": 11,
   "metadata": {},
   "outputs": [
    {
     "name": "stdout",
     "output_type": "stream",
     "text": [
      "\n",
      "\n",
      "\n",
      "\n",
      "\n",
      "#######################################################################################\n",
      "Processing subject: mg15\n",
      "Reading /data/pt_02774/memory_grid/mg15/mg15ALL_epo_rsample_reject.fif ...\n"
     ]
    },
    {
     "name": "stderr",
     "output_type": "stream",
     "text": [
      "/tmp/ipykernel_34995/2309198319.py:63: RuntimeWarning: This filename (/data/pt_02774/memory_grid/mg15/mg15ALL_epo_rsample_reject.fif) does not conform to MNE naming conventions. All epochs files should end with -epo.fif, -epo.fif.gz, _epo.fif or _epo.fif.gz\n",
      "  epochs =  mne.read_epochs(fname_epo,\n"
     ]
    },
    {
     "name": "stdout",
     "output_type": "stream",
     "text": [
      "    Found the data of interest:\n",
      "        t =    -500.00 ...    8195.00 ms\n",
      "        0 CTF compensation matrices available\n",
      "Not setting metadata\n",
      "718 matching events found\n",
      "No baseline correction applied\n",
      "0 projection items activated\n",
      "Setting up band-pass filter from 1 - 50 Hz\n",
      "\n",
      "FIR filter parameters\n",
      "---------------------\n",
      "Designing a one-pass, zero-phase, non-causal bandpass filter:\n",
      "- Windowed time-domain design (firwin) method\n",
      "- Hamming window with 0.0194 passband ripple and 53 dB stopband attenuation\n",
      "- Lower passband edge: 1.00\n",
      "- Lower transition bandwidth: 1.00 Hz (-6 dB cutoff frequency: 0.50 Hz)\n",
      "- Upper passband edge: 50.00 Hz\n",
      "- Upper transition bandwidth: 12.50 Hz (-6 dB cutoff frequency: 56.25 Hz)\n",
      "- Filter length: 661 samples (3.305 sec)\n",
      "\n"
     ]
    },
    {
     "name": "stderr",
     "output_type": "stream",
     "text": [
      "[Parallel(n_jobs=1)]: Using backend SequentialBackend with 1 concurrent workers.\n",
      "[Parallel(n_jobs=1)]: Done   1 out of   1 | elapsed:    0.0s remaining:    0.0s\n",
      "[Parallel(n_jobs=1)]: Done   2 out of   2 | elapsed:    0.0s remaining:    0.0s\n",
      "[Parallel(n_jobs=1)]: Done   3 out of   3 | elapsed:    0.0s remaining:    0.0s\n",
      "[Parallel(n_jobs=1)]: Done   4 out of   4 | elapsed:    0.0s remaining:    0.0s\n"
     ]
    },
    {
     "ename": "KeyboardInterrupt",
     "evalue": "",
     "output_type": "error",
     "traceback": [
      "\u001b[0;31m---------------------------------------------------------------------------\u001b[0m",
      "\u001b[0;31mKeyboardInterrupt\u001b[0m                         Traceback (most recent call last)",
      "Cell \u001b[0;32mIn[11], line 66\u001b[0m\n\u001b[1;32m     61\u001b[0m fname_epo \u001b[39m=\u001b[39m op\u001b[39m.\u001b[39mjoin(data_path,\n\u001b[1;32m     62\u001b[0m                         file_name\u001b[39m+\u001b[39m\u001b[39m'\u001b[39m\u001b[39m.fif\u001b[39m\u001b[39m'\u001b[39m)\n\u001b[1;32m     63\u001b[0m epochs \u001b[39m=\u001b[39m  mne\u001b[39m.\u001b[39mread_epochs(fname_epo,\n\u001b[1;32m     64\u001b[0m                       preload \u001b[39m=\u001b[39m \u001b[39mTrue\u001b[39;00m,\n\u001b[1;32m     65\u001b[0m                       verbose \u001b[39m=\u001b[39m \u001b[39mTrue\u001b[39;00m)\n\u001b[0;32m---> 66\u001b[0m epochs\u001b[39m.\u001b[39;49mfilter(\u001b[39m1\u001b[39;49m, \u001b[39m50\u001b[39;49m)\n\u001b[1;32m     67\u001b[0m fname_out \u001b[39m=\u001b[39m op\u001b[39m.\u001b[39mjoin(out_path,\n\u001b[1;32m     68\u001b[0m                         file_name  \u001b[39m+\u001b[39m \u001b[39m'\u001b[39m\u001b[39m_filter.fif\u001b[39m\u001b[39m'\u001b[39m)\n\u001b[1;32m     69\u001b[0m epochs\u001b[39m.\u001b[39msave(fname_out, overwrite\u001b[39m=\u001b[39m\u001b[39mTrue\u001b[39;00m)\n",
      "File \u001b[0;32m<decorator-gen-148>:12\u001b[0m, in \u001b[0;36mfilter\u001b[0;34m(self, l_freq, h_freq, picks, filter_length, l_trans_bandwidth, h_trans_bandwidth, n_jobs, method, iir_params, phase, fir_window, fir_design, skip_by_annotation, pad, verbose)\u001b[0m\n",
      "File \u001b[0;32m/data/pt_02783/projects/WM_GRID/venv/lib/python3.10/site-packages/mne/filter.py:2016\u001b[0m, in \u001b[0;36mFilterMixin.filter\u001b[0;34m(self, l_freq, h_freq, picks, filter_length, l_trans_bandwidth, h_trans_bandwidth, n_jobs, method, iir_params, phase, fir_window, fir_design, skip_by_annotation, pad, verbose)\u001b[0m\n\u001b[1;32m   2012\u001b[0m \u001b[39mfor\u001b[39;00m si, (start, stop) \u001b[39min\u001b[39;00m \u001b[39menumerate\u001b[39m(\u001b[39mzip\u001b[39m(onsets, ends)):\n\u001b[1;32m   2013\u001b[0m     \u001b[39m# Only output filter params once (for info level), and only warn\u001b[39;00m\n\u001b[1;32m   2014\u001b[0m     \u001b[39m# once about the length criterion (longest segment is too short)\u001b[39;00m\n\u001b[1;32m   2015\u001b[0m     use_verbose \u001b[39m=\u001b[39m verbose \u001b[39mif\u001b[39;00m si \u001b[39m==\u001b[39m max_idx \u001b[39melse\u001b[39;00m \u001b[39m'\u001b[39m\u001b[39merror\u001b[39m\u001b[39m'\u001b[39m\n\u001b[0;32m-> 2016\u001b[0m     filter_data(\n\u001b[1;32m   2017\u001b[0m         \u001b[39mself\u001b[39;49m\u001b[39m.\u001b[39;49m_data[:, start:stop], \u001b[39mself\u001b[39;49m\u001b[39m.\u001b[39;49minfo[\u001b[39m'\u001b[39;49m\u001b[39msfreq\u001b[39;49m\u001b[39m'\u001b[39;49m], l_freq, h_freq,\n\u001b[1;32m   2018\u001b[0m         picks, filter_length, l_trans_bandwidth, h_trans_bandwidth,\n\u001b[1;32m   2019\u001b[0m         n_jobs, method, iir_params, copy\u001b[39m=\u001b[39;49m\u001b[39mFalse\u001b[39;49;00m, phase\u001b[39m=\u001b[39;49mphase,\n\u001b[1;32m   2020\u001b[0m         fir_window\u001b[39m=\u001b[39;49mfir_window, fir_design\u001b[39m=\u001b[39;49mfir_design, pad\u001b[39m=\u001b[39;49mpad,\n\u001b[1;32m   2021\u001b[0m         verbose\u001b[39m=\u001b[39;49muse_verbose)\n\u001b[1;32m   2022\u001b[0m \u001b[39m# update info if filter is applied to all data channels,\u001b[39;00m\n\u001b[1;32m   2023\u001b[0m \u001b[39m# and it's not a band-stop filter\u001b[39;00m\n\u001b[1;32m   2024\u001b[0m _filt_update_info(\u001b[39mself\u001b[39m\u001b[39m.\u001b[39minfo, update_info, l_freq, h_freq)\n",
      "File \u001b[0;32m<decorator-gen-143>:12\u001b[0m, in \u001b[0;36mfilter_data\u001b[0;34m(data, sfreq, l_freq, h_freq, picks, filter_length, l_trans_bandwidth, h_trans_bandwidth, n_jobs, method, iir_params, copy, phase, fir_window, fir_design, pad, verbose)\u001b[0m\n",
      "File \u001b[0;32m/data/pt_02783/projects/WM_GRID/venv/lib/python3.10/site-packages/mne/filter.py:816\u001b[0m, in \u001b[0;36mfilter_data\u001b[0;34m(data, sfreq, l_freq, h_freq, picks, filter_length, l_trans_bandwidth, h_trans_bandwidth, n_jobs, method, iir_params, copy, phase, fir_window, fir_design, pad, verbose)\u001b[0m\n\u001b[1;32m    812\u001b[0m filt \u001b[39m=\u001b[39m create_filter(\n\u001b[1;32m    813\u001b[0m     data, sfreq, l_freq, h_freq, filter_length, l_trans_bandwidth,\n\u001b[1;32m    814\u001b[0m     h_trans_bandwidth, method, iir_params, phase, fir_window, fir_design)\n\u001b[1;32m    815\u001b[0m \u001b[39mif\u001b[39;00m method \u001b[39min\u001b[39;00m (\u001b[39m'\u001b[39m\u001b[39mfir\u001b[39m\u001b[39m'\u001b[39m, \u001b[39m'\u001b[39m\u001b[39mfft\u001b[39m\u001b[39m'\u001b[39m):\n\u001b[0;32m--> 816\u001b[0m     data \u001b[39m=\u001b[39m _overlap_add_filter(data, filt, \u001b[39mNone\u001b[39;49;00m, phase, picks, n_jobs,\n\u001b[1;32m    817\u001b[0m                                copy, pad)\n\u001b[1;32m    818\u001b[0m \u001b[39melse\u001b[39;00m:\n\u001b[1;32m    819\u001b[0m     data \u001b[39m=\u001b[39m _filtfilt(data, filt, picks, n_jobs, copy)\n",
      "File \u001b[0;32m/data/pt_02783/projects/WM_GRID/venv/lib/python3.10/site-packages/mne/filter.py:208\u001b[0m, in \u001b[0;36m_overlap_add_filter\u001b[0;34m(x, h, n_fft, phase, picks, n_jobs, copy, pad)\u001b[0m\n\u001b[1;32m    205\u001b[0m         x[p] \u001b[39m=\u001b[39m _1d_overlap_filter(x[p], \u001b[39mlen\u001b[39m(h), n_edge, phase,\n\u001b[1;32m    206\u001b[0m                                   cuda_dict, pad, n_fft)\n\u001b[1;32m    207\u001b[0m \u001b[39melse\u001b[39;00m:\n\u001b[0;32m--> 208\u001b[0m     data_new \u001b[39m=\u001b[39m parallel(p_fun(x[p], \u001b[39mlen\u001b[39;49m(h), n_edge, phase,\n\u001b[1;32m    209\u001b[0m                               cuda_dict, pad, n_fft) \u001b[39mfor\u001b[39;49;00m p \u001b[39min\u001b[39;49;00m picks)\n\u001b[1;32m    210\u001b[0m     \u001b[39mfor\u001b[39;00m pp, p \u001b[39min\u001b[39;00m \u001b[39menumerate\u001b[39m(picks):\n\u001b[1;32m    211\u001b[0m         x[p] \u001b[39m=\u001b[39m data_new[pp]\n",
      "File \u001b[0;32m/data/pt_02783/projects/WM_GRID/venv/lib/python3.10/site-packages/joblib/parallel.py:1088\u001b[0m, in \u001b[0;36mParallel.__call__\u001b[0;34m(self, iterable)\u001b[0m\n\u001b[1;32m   1085\u001b[0m \u001b[39mif\u001b[39;00m \u001b[39mself\u001b[39m\u001b[39m.\u001b[39mdispatch_one_batch(iterator):\n\u001b[1;32m   1086\u001b[0m     \u001b[39mself\u001b[39m\u001b[39m.\u001b[39m_iterating \u001b[39m=\u001b[39m \u001b[39mself\u001b[39m\u001b[39m.\u001b[39m_original_iterator \u001b[39mis\u001b[39;00m \u001b[39mnot\u001b[39;00m \u001b[39mNone\u001b[39;00m\n\u001b[0;32m-> 1088\u001b[0m \u001b[39mwhile\u001b[39;00m \u001b[39mself\u001b[39;49m\u001b[39m.\u001b[39;49mdispatch_one_batch(iterator):\n\u001b[1;32m   1089\u001b[0m     \u001b[39mpass\u001b[39;00m\n\u001b[1;32m   1091\u001b[0m \u001b[39mif\u001b[39;00m pre_dispatch \u001b[39m==\u001b[39m \u001b[39m\"\u001b[39m\u001b[39mall\u001b[39m\u001b[39m\"\u001b[39m \u001b[39mor\u001b[39;00m n_jobs \u001b[39m==\u001b[39m \u001b[39m1\u001b[39m:\n\u001b[1;32m   1092\u001b[0m     \u001b[39m# The iterable was consumed all at once by the above for loop.\u001b[39;00m\n\u001b[1;32m   1093\u001b[0m     \u001b[39m# No need to wait for async callbacks to trigger to\u001b[39;00m\n\u001b[1;32m   1094\u001b[0m     \u001b[39m# consumption.\u001b[39;00m\n",
      "File \u001b[0;32m/data/pt_02783/projects/WM_GRID/venv/lib/python3.10/site-packages/joblib/parallel.py:901\u001b[0m, in \u001b[0;36mParallel.dispatch_one_batch\u001b[0;34m(self, iterator)\u001b[0m\n\u001b[1;32m    899\u001b[0m     \u001b[39mreturn\u001b[39;00m \u001b[39mFalse\u001b[39;00m\n\u001b[1;32m    900\u001b[0m \u001b[39melse\u001b[39;00m:\n\u001b[0;32m--> 901\u001b[0m     \u001b[39mself\u001b[39;49m\u001b[39m.\u001b[39;49m_dispatch(tasks)\n\u001b[1;32m    902\u001b[0m     \u001b[39mreturn\u001b[39;00m \u001b[39mTrue\u001b[39;00m\n",
      "File \u001b[0;32m/data/pt_02783/projects/WM_GRID/venv/lib/python3.10/site-packages/joblib/parallel.py:819\u001b[0m, in \u001b[0;36mParallel._dispatch\u001b[0;34m(self, batch)\u001b[0m\n\u001b[1;32m    817\u001b[0m \u001b[39mwith\u001b[39;00m \u001b[39mself\u001b[39m\u001b[39m.\u001b[39m_lock:\n\u001b[1;32m    818\u001b[0m     job_idx \u001b[39m=\u001b[39m \u001b[39mlen\u001b[39m(\u001b[39mself\u001b[39m\u001b[39m.\u001b[39m_jobs)\n\u001b[0;32m--> 819\u001b[0m     job \u001b[39m=\u001b[39m \u001b[39mself\u001b[39;49m\u001b[39m.\u001b[39;49m_backend\u001b[39m.\u001b[39;49mapply_async(batch, callback\u001b[39m=\u001b[39;49mcb)\n\u001b[1;32m    820\u001b[0m     \u001b[39m# A job can complete so quickly than its callback is\u001b[39;00m\n\u001b[1;32m    821\u001b[0m     \u001b[39m# called before we get here, causing self._jobs to\u001b[39;00m\n\u001b[1;32m    822\u001b[0m     \u001b[39m# grow. To ensure correct results ordering, .insert is\u001b[39;00m\n\u001b[1;32m    823\u001b[0m     \u001b[39m# used (rather than .append) in the following line\u001b[39;00m\n\u001b[1;32m    824\u001b[0m     \u001b[39mself\u001b[39m\u001b[39m.\u001b[39m_jobs\u001b[39m.\u001b[39minsert(job_idx, job)\n",
      "File \u001b[0;32m/data/pt_02783/projects/WM_GRID/venv/lib/python3.10/site-packages/joblib/_parallel_backends.py:208\u001b[0m, in \u001b[0;36mSequentialBackend.apply_async\u001b[0;34m(self, func, callback)\u001b[0m\n\u001b[1;32m    206\u001b[0m \u001b[39mdef\u001b[39;00m \u001b[39mapply_async\u001b[39m(\u001b[39mself\u001b[39m, func, callback\u001b[39m=\u001b[39m\u001b[39mNone\u001b[39;00m):\n\u001b[1;32m    207\u001b[0m \u001b[39m    \u001b[39m\u001b[39m\"\"\"Schedule a func to be run\"\"\"\u001b[39;00m\n\u001b[0;32m--> 208\u001b[0m     result \u001b[39m=\u001b[39m ImmediateResult(func)\n\u001b[1;32m    209\u001b[0m     \u001b[39mif\u001b[39;00m callback:\n\u001b[1;32m    210\u001b[0m         callback(result)\n",
      "File \u001b[0;32m/data/pt_02783/projects/WM_GRID/venv/lib/python3.10/site-packages/joblib/_parallel_backends.py:597\u001b[0m, in \u001b[0;36mImmediateResult.__init__\u001b[0;34m(self, batch)\u001b[0m\n\u001b[1;32m    594\u001b[0m \u001b[39mdef\u001b[39;00m \u001b[39m__init__\u001b[39m(\u001b[39mself\u001b[39m, batch):\n\u001b[1;32m    595\u001b[0m     \u001b[39m# Don't delay the application, to avoid keeping the input\u001b[39;00m\n\u001b[1;32m    596\u001b[0m     \u001b[39m# arguments in memory\u001b[39;00m\n\u001b[0;32m--> 597\u001b[0m     \u001b[39mself\u001b[39m\u001b[39m.\u001b[39mresults \u001b[39m=\u001b[39m batch()\n",
      "File \u001b[0;32m/data/pt_02783/projects/WM_GRID/venv/lib/python3.10/site-packages/joblib/parallel.py:288\u001b[0m, in \u001b[0;36mBatchedCalls.__call__\u001b[0;34m(self)\u001b[0m\n\u001b[1;32m    284\u001b[0m \u001b[39mdef\u001b[39;00m \u001b[39m__call__\u001b[39m(\u001b[39mself\u001b[39m):\n\u001b[1;32m    285\u001b[0m     \u001b[39m# Set the default nested backend to self._backend but do not set the\u001b[39;00m\n\u001b[1;32m    286\u001b[0m     \u001b[39m# change the default number of processes to -1\u001b[39;00m\n\u001b[1;32m    287\u001b[0m     \u001b[39mwith\u001b[39;00m parallel_backend(\u001b[39mself\u001b[39m\u001b[39m.\u001b[39m_backend, n_jobs\u001b[39m=\u001b[39m\u001b[39mself\u001b[39m\u001b[39m.\u001b[39m_n_jobs):\n\u001b[0;32m--> 288\u001b[0m         \u001b[39mreturn\u001b[39;00m [func(\u001b[39m*\u001b[39margs, \u001b[39m*\u001b[39m\u001b[39m*\u001b[39mkwargs)\n\u001b[1;32m    289\u001b[0m                 \u001b[39mfor\u001b[39;00m func, args, kwargs \u001b[39min\u001b[39;00m \u001b[39mself\u001b[39m\u001b[39m.\u001b[39mitems]\n",
      "File \u001b[0;32m/data/pt_02783/projects/WM_GRID/venv/lib/python3.10/site-packages/joblib/parallel.py:288\u001b[0m, in \u001b[0;36m<listcomp>\u001b[0;34m(.0)\u001b[0m\n\u001b[1;32m    284\u001b[0m \u001b[39mdef\u001b[39;00m \u001b[39m__call__\u001b[39m(\u001b[39mself\u001b[39m):\n\u001b[1;32m    285\u001b[0m     \u001b[39m# Set the default nested backend to self._backend but do not set the\u001b[39;00m\n\u001b[1;32m    286\u001b[0m     \u001b[39m# change the default number of processes to -1\u001b[39;00m\n\u001b[1;32m    287\u001b[0m     \u001b[39mwith\u001b[39;00m parallel_backend(\u001b[39mself\u001b[39m\u001b[39m.\u001b[39m_backend, n_jobs\u001b[39m=\u001b[39m\u001b[39mself\u001b[39m\u001b[39m.\u001b[39m_n_jobs):\n\u001b[0;32m--> 288\u001b[0m         \u001b[39mreturn\u001b[39;00m [func(\u001b[39m*\u001b[39;49margs, \u001b[39m*\u001b[39;49m\u001b[39m*\u001b[39;49mkwargs)\n\u001b[1;32m    289\u001b[0m                 \u001b[39mfor\u001b[39;00m func, args, kwargs \u001b[39min\u001b[39;00m \u001b[39mself\u001b[39m\u001b[39m.\u001b[39mitems]\n",
      "File \u001b[0;32m/data/pt_02783/projects/WM_GRID/venv/lib/python3.10/site-packages/mne/filter.py:220\u001b[0m, in \u001b[0;36m_1d_overlap_filter\u001b[0;34m(x, n_h, n_edge, phase, cuda_dict, pad, n_fft)\u001b[0m\n\u001b[1;32m    218\u001b[0m \u001b[39m\u001b[39m\u001b[39m\"\"\"Do one-dimensional overlap-add FFT FIR filtering.\"\"\"\u001b[39;00m\n\u001b[1;32m    219\u001b[0m \u001b[39m# pad to reduce ringing\u001b[39;00m\n\u001b[0;32m--> 220\u001b[0m x_ext \u001b[39m=\u001b[39m _smart_pad(x, (n_edge, n_edge), pad)\n\u001b[1;32m    221\u001b[0m n_x \u001b[39m=\u001b[39m \u001b[39mlen\u001b[39m(x_ext)\n\u001b[1;32m    222\u001b[0m x_filtered \u001b[39m=\u001b[39m np\u001b[39m.\u001b[39mzeros_like(x_ext)\n",
      "File \u001b[0;32m/data/pt_02783/projects/WM_GRID/venv/lib/python3.10/site-packages/mne/cuda.py:363\u001b[0m, in \u001b[0;36m_smart_pad\u001b[0;34m(x, n_pad, pad)\u001b[0m\n\u001b[1;32m    360\u001b[0m     \u001b[39mreturn\u001b[39;00m np\u001b[39m.\u001b[39mconcatenate([l_z_pad, \u001b[39m2\u001b[39m \u001b[39m*\u001b[39m x[\u001b[39m0\u001b[39m] \u001b[39m-\u001b[39m x[n_pad[\u001b[39m0\u001b[39m]:\u001b[39m0\u001b[39m:\u001b[39m-\u001b[39m\u001b[39m1\u001b[39m], x,\n\u001b[1;32m    361\u001b[0m                            \u001b[39m2\u001b[39m \u001b[39m*\u001b[39m x[\u001b[39m-\u001b[39m\u001b[39m1\u001b[39m] \u001b[39m-\u001b[39m x[\u001b[39m-\u001b[39m\u001b[39m2\u001b[39m:\u001b[39m-\u001b[39mn_pad[\u001b[39m1\u001b[39m] \u001b[39m-\u001b[39m \u001b[39m2\u001b[39m:\u001b[39m-\u001b[39m\u001b[39m1\u001b[39m], r_z_pad])\n\u001b[1;32m    362\u001b[0m \u001b[39melse\u001b[39;00m:\n\u001b[0;32m--> 363\u001b[0m     \u001b[39mreturn\u001b[39;00m np\u001b[39m.\u001b[39;49mpad(x, (\u001b[39mtuple\u001b[39;49m(n_pad),), pad)\n",
      "File \u001b[0;32m<__array_function__ internals>:200\u001b[0m, in \u001b[0;36mpad\u001b[0;34m(*args, **kwargs)\u001b[0m\n",
      "File \u001b[0;32m/data/pt_02783/projects/WM_GRID/venv/lib/python3.10/site-packages/numpy/lib/arraypad.py:794\u001b[0m, in \u001b[0;36mpad\u001b[0;34m(array, pad_width, mode, **kwargs)\u001b[0m\n\u001b[1;32m    789\u001b[0m stat_functions \u001b[39m=\u001b[39m {\u001b[39m\"\u001b[39m\u001b[39mmaximum\u001b[39m\u001b[39m\"\u001b[39m: np\u001b[39m.\u001b[39mamax, \u001b[39m\"\u001b[39m\u001b[39mminimum\u001b[39m\u001b[39m\"\u001b[39m: np\u001b[39m.\u001b[39mamin,\n\u001b[1;32m    790\u001b[0m                   \u001b[39m\"\u001b[39m\u001b[39mmean\u001b[39m\u001b[39m\"\u001b[39m: np\u001b[39m.\u001b[39mmean, \u001b[39m\"\u001b[39m\u001b[39mmedian\u001b[39m\u001b[39m\"\u001b[39m: np\u001b[39m.\u001b[39mmedian}\n\u001b[1;32m    792\u001b[0m \u001b[39m# Create array with final shape and original values\u001b[39;00m\n\u001b[1;32m    793\u001b[0m \u001b[39m# (padded area is undefined)\u001b[39;00m\n\u001b[0;32m--> 794\u001b[0m padded, original_area_slice \u001b[39m=\u001b[39m _pad_simple(array, pad_width)\n\u001b[1;32m    795\u001b[0m \u001b[39m# And prepare iteration over all dimensions\u001b[39;00m\n\u001b[1;32m    796\u001b[0m \u001b[39m# (zipping may be more readable than using enumerate)\u001b[39;00m\n\u001b[1;32m    797\u001b[0m axes \u001b[39m=\u001b[39m \u001b[39mrange\u001b[39m(padded\u001b[39m.\u001b[39mndim)\n",
      "File \u001b[0;32m/data/pt_02783/projects/WM_GRID/venv/lib/python3.10/site-packages/numpy/lib/arraypad.py:111\u001b[0m, in \u001b[0;36m_pad_simple\u001b[0;34m(array, pad_width, fill_value)\u001b[0m\n\u001b[1;32m     87\u001b[0m \u001b[39m\u001b[39m\u001b[39m\"\"\"\u001b[39;00m\n\u001b[1;32m     88\u001b[0m \u001b[39mPad array on all sides with either a single value or undefined values.\u001b[39;00m\n\u001b[1;32m     89\u001b[0m \n\u001b[0;32m   (...)\u001b[0m\n\u001b[1;32m    106\u001b[0m \u001b[39m    A tuple of slices pointing to the area of the original array.\u001b[39;00m\n\u001b[1;32m    107\u001b[0m \u001b[39m\"\"\"\u001b[39;00m\n\u001b[1;32m    108\u001b[0m \u001b[39m# Allocate grown array\u001b[39;00m\n\u001b[1;32m    109\u001b[0m new_shape \u001b[39m=\u001b[39m \u001b[39mtuple\u001b[39m(\n\u001b[1;32m    110\u001b[0m     left \u001b[39m+\u001b[39m size \u001b[39m+\u001b[39m right\n\u001b[0;32m--> 111\u001b[0m     \u001b[39mfor\u001b[39;00m size, (left, right) \u001b[39min\u001b[39;00m \u001b[39mzip\u001b[39;49m(array\u001b[39m.\u001b[39;49mshape, pad_width)\n\u001b[1;32m    112\u001b[0m )\n\u001b[1;32m    113\u001b[0m order \u001b[39m=\u001b[39m \u001b[39m'\u001b[39m\u001b[39mF\u001b[39m\u001b[39m'\u001b[39m \u001b[39mif\u001b[39;00m array\u001b[39m.\u001b[39mflags\u001b[39m.\u001b[39mfnc \u001b[39melse\u001b[39;00m \u001b[39m'\u001b[39m\u001b[39mC\u001b[39m\u001b[39m'\u001b[39m  \u001b[39m# Fortran and not also C-order\u001b[39;00m\n\u001b[1;32m    114\u001b[0m padded \u001b[39m=\u001b[39m np\u001b[39m.\u001b[39mempty(new_shape, dtype\u001b[39m=\u001b[39marray\u001b[39m.\u001b[39mdtype, order\u001b[39m=\u001b[39morder)\n",
      "\u001b[0;31mKeyboardInterrupt\u001b[0m: "
     ]
    }
   ],
   "source": [
    "# %load config.py\n",
    "\"\"\"\n",
    "===========\n",
    "Config file\n",
    "===========\n",
    "\n",
    "Configurate the parameters of the study.\n",
    "\"\"\"\n",
    "\n",
    "for subject_id in subject_list[:]:\n",
    "\n",
    "    # =============================================================================\n",
    "    # SESSION-SPECIFIC SETTINGS\n",
    "    # =============================================================================\n",
    "    # Set filename based on experiment number\n",
    "    \n",
    "    if subject_id == 'mg37':\n",
    "        \n",
    "        file_exts = ['%sb07',\n",
    "                     '%sb08',\n",
    "                     '%sb09',\n",
    "                     '%sb10',\n",
    "                     '%sb11',\n",
    "                     '%sb12',\n",
    "                     '%sc01',\n",
    "                     '%sc02',\n",
    "                     '%sc03',\n",
    "                     '%sc04',\n",
    "                     '%sc05',\n",
    "                     '%sc06']\n",
    "\n",
    "    else:\n",
    "        file_exts = ['%sa01',\n",
    "                     '%sa02',\n",
    "                     '%sa03',\n",
    "                     '%sa04',\n",
    "                     '%sa05',\n",
    "                     '%sa06',\n",
    "                     '%sb07',\n",
    "                     '%sb08',\n",
    "                     '%sb09',\n",
    "                     '%sb10',\n",
    "                     '%sb11',\n",
    "                     '%sb12']#,\n",
    "\n",
    "    file_names = [f % (subject_id) for f in file_exts]\n",
    "\n",
    "\n",
    "    # =============================================================================\n",
    "    # GENERAL SETTINGS\n",
    "    # =============================================================================\n",
    "\n",
    "    print('\\n\\n\\n\\n\\n#######################################################################################')\n",
    "    print(\"Processing subject: %s\" % subject_id)\n",
    "    \n",
    "    data_path = os.path.join(rawdir,subject_id)\n",
    "    out_path = os.path.join(rawdir2,subject_id)\n",
    "    if not op.exists(out_path):\n",
    "        os.mkdir(out_path)\n",
    "    file_name = (subject_id+ 'ALL_epo_rsample_reject')\n",
    "    fname_epo = op.join(data_path,\n",
    "                            file_name+'.fif')\n",
    "    epochs =  mne.read_epochs(fname_epo,\n",
    "                          preload = True,\n",
    "                          verbose = True)\n",
    "    epochs.filter(1, 50)\n",
    "    fname_out = op.join(out_path,\n",
    "                            file_name  + '_filter.fif')\n",
    "    epochs.save(fname_out, overwrite=True)\n",
    "    "
   ]
  },
  {
   "attachments": {},
   "cell_type": "markdown",
   "metadata": {},
   "source": [
    "downsample"
   ]
  },
  {
   "cell_type": "code",
   "execution_count": 12,
   "metadata": {},
   "outputs": [
    {
     "name": "stdout",
     "output_type": "stream",
     "text": [
      "\n",
      "\n",
      "\n",
      "\n",
      "\n",
      "#######################################################################################\n",
      "Processing subject: mg15\n",
      "Reading /data/pt_02774/memory_grid/mg15/mg15ALL_epo_rsample_reject.fif ...\n"
     ]
    },
    {
     "name": "stderr",
     "output_type": "stream",
     "text": [
      "/tmp/ipykernel_34995/4126073635.py:63: RuntimeWarning: This filename (/data/pt_02774/memory_grid/mg15/mg15ALL_epo_rsample_reject.fif) does not conform to MNE naming conventions. All epochs files should end with -epo.fif, -epo.fif.gz, _epo.fif or _epo.fif.gz\n",
      "  epochs =  mne.read_epochs(fname_epo,\n"
     ]
    },
    {
     "name": "stdout",
     "output_type": "stream",
     "text": [
      "    Found the data of interest:\n",
      "        t =    -500.00 ...    8195.00 ms\n",
      "        0 CTF compensation matrices available\n",
      "Not setting metadata\n",
      "718 matching events found\n",
      "No baseline correction applied\n",
      "0 projection items activated\n",
      "Setting up band-pass filter from 2 - 30 Hz\n",
      "\n",
      "FIR filter parameters\n",
      "---------------------\n",
      "Designing a one-pass, zero-phase, non-causal bandpass filter:\n",
      "- Windowed time-domain design (firwin) method\n",
      "- Hamming window with 0.0194 passband ripple and 53 dB stopband attenuation\n",
      "- Lower passband edge: 2.00\n",
      "- Lower transition bandwidth: 2.00 Hz (-6 dB cutoff frequency: 1.00 Hz)\n",
      "- Upper passband edge: 30.00 Hz\n",
      "- Upper transition bandwidth: 7.50 Hz (-6 dB cutoff frequency: 33.75 Hz)\n",
      "- Filter length: 331 samples (1.655 sec)\n",
      "\n"
     ]
    },
    {
     "name": "stderr",
     "output_type": "stream",
     "text": [
      "[Parallel(n_jobs=1)]: Using backend SequentialBackend with 1 concurrent workers.\n",
      "[Parallel(n_jobs=1)]: Done   1 out of   1 | elapsed:    0.0s remaining:    0.0s\n",
      "[Parallel(n_jobs=1)]: Done   2 out of   2 | elapsed:    0.0s remaining:    0.0s\n",
      "[Parallel(n_jobs=1)]: Done   3 out of   3 | elapsed:    0.0s remaining:    0.0s\n",
      "[Parallel(n_jobs=1)]: Done   4 out of   4 | elapsed:    0.0s remaining:    0.0s\n",
      "[Parallel(n_jobs=1)]: Done 219708 out of 219708 | elapsed:  1.8min finished\n",
      "/tmp/ipykernel_34995/4126073635.py:70: RuntimeWarning: This filename (/data/pt_02774/memory_grid/mg15/mg15ALL_epo_rsample_reject_filter_30_100.fif) does not conform to MNE naming conventions. All epochs files should end with -epo.fif, -epo.fif.gz, _epo.fif or _epo.fif.gz\n",
      "  epochs.save(fname_out, overwrite=True)\n"
     ]
    },
    {
     "name": "stdout",
     "output_type": "stream",
     "text": [
      "\n",
      "\n",
      "\n",
      "\n",
      "\n",
      "#######################################################################################\n",
      "Processing subject: mg16\n",
      "Reading /data/pt_02774/memory_grid/mg16/mg16ALL_epo_rsample_reject.fif ...\n"
     ]
    },
    {
     "name": "stderr",
     "output_type": "stream",
     "text": [
      "/tmp/ipykernel_34995/4126073635.py:63: RuntimeWarning: This filename (/data/pt_02774/memory_grid/mg16/mg16ALL_epo_rsample_reject.fif) does not conform to MNE naming conventions. All epochs files should end with -epo.fif, -epo.fif.gz, _epo.fif or _epo.fif.gz\n",
      "  epochs =  mne.read_epochs(fname_epo,\n"
     ]
    },
    {
     "name": "stdout",
     "output_type": "stream",
     "text": [
      "    Found the data of interest:\n",
      "        t =    -500.00 ...    8195.00 ms\n",
      "        0 CTF compensation matrices available\n"
     ]
    },
    {
     "name": "stderr",
     "output_type": "stream",
     "text": [
      "/tmp/ipykernel_34995/4126073635.py:63: RuntimeWarning: The events passed to the Epochs constructor are not chronologically ordered.\n",
      "  epochs =  mne.read_epochs(fname_epo,\n"
     ]
    },
    {
     "name": "stdout",
     "output_type": "stream",
     "text": [
      "Not setting metadata\n",
      "719 matching events found\n",
      "No baseline correction applied\n",
      "0 projection items activated\n",
      "Setting up band-pass filter from 2 - 30 Hz\n",
      "\n",
      "FIR filter parameters\n",
      "---------------------\n",
      "Designing a one-pass, zero-phase, non-causal bandpass filter:\n",
      "- Windowed time-domain design (firwin) method\n",
      "- Hamming window with 0.0194 passband ripple and 53 dB stopband attenuation\n",
      "- Lower passband edge: 2.00\n",
      "- Lower transition bandwidth: 2.00 Hz (-6 dB cutoff frequency: 1.00 Hz)\n",
      "- Upper passband edge: 30.00 Hz\n",
      "- Upper transition bandwidth: 7.50 Hz (-6 dB cutoff frequency: 33.75 Hz)\n",
      "- Filter length: 331 samples (1.655 sec)\n",
      "\n"
     ]
    },
    {
     "name": "stderr",
     "output_type": "stream",
     "text": [
      "/tmp/ipykernel_34995/4126073635.py:63: RuntimeWarning: The events passed to the Epochs constructor are not chronologically ordered.\n",
      "  epochs =  mne.read_epochs(fname_epo,\n",
      "[Parallel(n_jobs=1)]: Using backend SequentialBackend with 1 concurrent workers.\n",
      "[Parallel(n_jobs=1)]: Done   1 out of   1 | elapsed:    0.0s remaining:    0.0s\n",
      "[Parallel(n_jobs=1)]: Done   2 out of   2 | elapsed:    0.0s remaining:    0.0s\n",
      "[Parallel(n_jobs=1)]: Done   3 out of   3 | elapsed:    0.0s remaining:    0.0s\n",
      "[Parallel(n_jobs=1)]: Done   4 out of   4 | elapsed:    0.0s remaining:    0.0s\n",
      "[Parallel(n_jobs=1)]: Done 220014 out of 220014 | elapsed:  2.0min finished\n",
      "/tmp/ipykernel_34995/4126073635.py:70: RuntimeWarning: This filename (/data/pt_02774/memory_grid/mg16/mg16ALL_epo_rsample_reject_filter_30_100.fif) does not conform to MNE naming conventions. All epochs files should end with -epo.fif, -epo.fif.gz, _epo.fif or _epo.fif.gz\n",
      "  epochs.save(fname_out, overwrite=True)\n"
     ]
    },
    {
     "name": "stdout",
     "output_type": "stream",
     "text": [
      "\n",
      "\n",
      "\n",
      "\n",
      "\n",
      "#######################################################################################\n",
      "Processing subject: mg17\n",
      "Reading /data/pt_02774/memory_grid/mg17/mg17ALL_epo_rsample_reject.fif ...\n"
     ]
    },
    {
     "name": "stderr",
     "output_type": "stream",
     "text": [
      "/tmp/ipykernel_34995/4126073635.py:63: RuntimeWarning: This filename (/data/pt_02774/memory_grid/mg17/mg17ALL_epo_rsample_reject.fif) does not conform to MNE naming conventions. All epochs files should end with -epo.fif, -epo.fif.gz, _epo.fif or _epo.fif.gz\n",
      "  epochs =  mne.read_epochs(fname_epo,\n"
     ]
    },
    {
     "name": "stdout",
     "output_type": "stream",
     "text": [
      "    Found the data of interest:\n",
      "        t =    -500.00 ...    8195.00 ms\n",
      "        0 CTF compensation matrices available\n",
      "Not setting metadata\n",
      "716 matching events found\n",
      "No baseline correction applied\n",
      "0 projection items activated\n",
      "Setting up band-pass filter from 2 - 30 Hz\n",
      "\n",
      "FIR filter parameters\n",
      "---------------------\n",
      "Designing a one-pass, zero-phase, non-causal bandpass filter:\n",
      "- Windowed time-domain design (firwin) method\n",
      "- Hamming window with 0.0194 passband ripple and 53 dB stopband attenuation\n",
      "- Lower passband edge: 2.00\n",
      "- Lower transition bandwidth: 2.00 Hz (-6 dB cutoff frequency: 1.00 Hz)\n",
      "- Upper passband edge: 30.00 Hz\n",
      "- Upper transition bandwidth: 7.50 Hz (-6 dB cutoff frequency: 33.75 Hz)\n",
      "- Filter length: 331 samples (1.655 sec)\n",
      "\n"
     ]
    },
    {
     "name": "stderr",
     "output_type": "stream",
     "text": [
      "[Parallel(n_jobs=1)]: Using backend SequentialBackend with 1 concurrent workers.\n",
      "[Parallel(n_jobs=1)]: Done   1 out of   1 | elapsed:    0.0s remaining:    0.0s\n",
      "[Parallel(n_jobs=1)]: Done   2 out of   2 | elapsed:    0.0s remaining:    0.0s\n",
      "[Parallel(n_jobs=1)]: Done   3 out of   3 | elapsed:    0.0s remaining:    0.0s\n",
      "[Parallel(n_jobs=1)]: Done   4 out of   4 | elapsed:    0.0s remaining:    0.0s\n",
      "[Parallel(n_jobs=1)]: Done 219096 out of 219096 | elapsed:  1.8min finished\n",
      "/tmp/ipykernel_34995/4126073635.py:70: RuntimeWarning: This filename (/data/pt_02774/memory_grid/mg17/mg17ALL_epo_rsample_reject_filter_30_100.fif) does not conform to MNE naming conventions. All epochs files should end with -epo.fif, -epo.fif.gz, _epo.fif or _epo.fif.gz\n",
      "  epochs.save(fname_out, overwrite=True)\n"
     ]
    },
    {
     "name": "stdout",
     "output_type": "stream",
     "text": [
      "\n",
      "\n",
      "\n",
      "\n",
      "\n",
      "#######################################################################################\n",
      "Processing subject: mg18\n",
      "Reading /data/pt_02774/memory_grid/mg18/mg18ALL_epo_rsample_reject.fif ...\n"
     ]
    },
    {
     "name": "stderr",
     "output_type": "stream",
     "text": [
      "/tmp/ipykernel_34995/4126073635.py:63: RuntimeWarning: This filename (/data/pt_02774/memory_grid/mg18/mg18ALL_epo_rsample_reject.fif) does not conform to MNE naming conventions. All epochs files should end with -epo.fif, -epo.fif.gz, _epo.fif or _epo.fif.gz\n",
      "  epochs =  mne.read_epochs(fname_epo,\n"
     ]
    },
    {
     "name": "stdout",
     "output_type": "stream",
     "text": [
      "    Found the data of interest:\n",
      "        t =    -500.00 ...    8195.00 ms\n",
      "        0 CTF compensation matrices available\n",
      "Not setting metadata\n",
      "716 matching events found\n",
      "No baseline correction applied\n",
      "0 projection items activated\n",
      "Setting up band-pass filter from 2 - 30 Hz\n",
      "\n",
      "FIR filter parameters\n",
      "---------------------\n",
      "Designing a one-pass, zero-phase, non-causal bandpass filter:\n",
      "- Windowed time-domain design (firwin) method\n",
      "- Hamming window with 0.0194 passband ripple and 53 dB stopband attenuation\n",
      "- Lower passband edge: 2.00\n",
      "- Lower transition bandwidth: 2.00 Hz (-6 dB cutoff frequency: 1.00 Hz)\n",
      "- Upper passband edge: 30.00 Hz\n",
      "- Upper transition bandwidth: 7.50 Hz (-6 dB cutoff frequency: 33.75 Hz)\n",
      "- Filter length: 331 samples (1.655 sec)\n",
      "\n"
     ]
    },
    {
     "name": "stderr",
     "output_type": "stream",
     "text": [
      "[Parallel(n_jobs=1)]: Using backend SequentialBackend with 1 concurrent workers.\n",
      "[Parallel(n_jobs=1)]: Done   1 out of   1 | elapsed:    0.0s remaining:    0.0s\n",
      "[Parallel(n_jobs=1)]: Done   2 out of   2 | elapsed:    0.0s remaining:    0.0s\n",
      "[Parallel(n_jobs=1)]: Done   3 out of   3 | elapsed:    0.0s remaining:    0.0s\n",
      "[Parallel(n_jobs=1)]: Done   4 out of   4 | elapsed:    0.0s remaining:    0.0s\n",
      "[Parallel(n_jobs=1)]: Done 219096 out of 219096 | elapsed:  2.1min finished\n",
      "/tmp/ipykernel_34995/4126073635.py:70: RuntimeWarning: This filename (/data/pt_02774/memory_grid/mg18/mg18ALL_epo_rsample_reject_filter_30_100.fif) does not conform to MNE naming conventions. All epochs files should end with -epo.fif, -epo.fif.gz, _epo.fif or _epo.fif.gz\n",
      "  epochs.save(fname_out, overwrite=True)\n"
     ]
    },
    {
     "name": "stdout",
     "output_type": "stream",
     "text": [
      "\n",
      "\n",
      "\n",
      "\n",
      "\n",
      "#######################################################################################\n",
      "Processing subject: mg19\n",
      "Reading /data/pt_02774/memory_grid/mg19/mg19ALL_epo_rsample_reject.fif ...\n"
     ]
    },
    {
     "name": "stderr",
     "output_type": "stream",
     "text": [
      "/tmp/ipykernel_34995/4126073635.py:63: RuntimeWarning: This filename (/data/pt_02774/memory_grid/mg19/mg19ALL_epo_rsample_reject.fif) does not conform to MNE naming conventions. All epochs files should end with -epo.fif, -epo.fif.gz, _epo.fif or _epo.fif.gz\n",
      "  epochs =  mne.read_epochs(fname_epo,\n"
     ]
    },
    {
     "name": "stdout",
     "output_type": "stream",
     "text": [
      "    Found the data of interest:\n",
      "        t =    -500.00 ...    8195.00 ms\n",
      "        0 CTF compensation matrices available\n",
      "Not setting metadata\n",
      "713 matching events found\n",
      "No baseline correction applied\n",
      "0 projection items activated\n",
      "Setting up band-pass filter from 2 - 30 Hz\n",
      "\n",
      "FIR filter parameters\n",
      "---------------------\n",
      "Designing a one-pass, zero-phase, non-causal bandpass filter:\n",
      "- Windowed time-domain design (firwin) method\n",
      "- Hamming window with 0.0194 passband ripple and 53 dB stopband attenuation\n",
      "- Lower passband edge: 2.00\n",
      "- Lower transition bandwidth: 2.00 Hz (-6 dB cutoff frequency: 1.00 Hz)\n",
      "- Upper passband edge: 30.00 Hz\n",
      "- Upper transition bandwidth: 7.50 Hz (-6 dB cutoff frequency: 33.75 Hz)\n",
      "- Filter length: 331 samples (1.655 sec)\n",
      "\n"
     ]
    },
    {
     "name": "stderr",
     "output_type": "stream",
     "text": [
      "[Parallel(n_jobs=1)]: Using backend SequentialBackend with 1 concurrent workers.\n",
      "[Parallel(n_jobs=1)]: Done   1 out of   1 | elapsed:    0.0s remaining:    0.0s\n",
      "[Parallel(n_jobs=1)]: Done   2 out of   2 | elapsed:    0.0s remaining:    0.0s\n",
      "[Parallel(n_jobs=1)]: Done   3 out of   3 | elapsed:    0.0s remaining:    0.0s\n",
      "[Parallel(n_jobs=1)]: Done   4 out of   4 | elapsed:    0.0s remaining:    0.0s\n",
      "[Parallel(n_jobs=1)]: Done 218178 out of 218178 | elapsed:  1.8min finished\n",
      "/tmp/ipykernel_34995/4126073635.py:70: RuntimeWarning: This filename (/data/pt_02774/memory_grid/mg19/mg19ALL_epo_rsample_reject_filter_30_100.fif) does not conform to MNE naming conventions. All epochs files should end with -epo.fif, -epo.fif.gz, _epo.fif or _epo.fif.gz\n",
      "  epochs.save(fname_out, overwrite=True)\n"
     ]
    },
    {
     "name": "stdout",
     "output_type": "stream",
     "text": [
      "\n",
      "\n",
      "\n",
      "\n",
      "\n",
      "#######################################################################################\n",
      "Processing subject: mg20\n",
      "Reading /data/pt_02774/memory_grid/mg20/mg20ALL_epo_rsample_reject.fif ...\n"
     ]
    },
    {
     "name": "stderr",
     "output_type": "stream",
     "text": [
      "/tmp/ipykernel_34995/4126073635.py:63: RuntimeWarning: This filename (/data/pt_02774/memory_grid/mg20/mg20ALL_epo_rsample_reject.fif) does not conform to MNE naming conventions. All epochs files should end with -epo.fif, -epo.fif.gz, _epo.fif or _epo.fif.gz\n",
      "  epochs =  mne.read_epochs(fname_epo,\n"
     ]
    },
    {
     "name": "stdout",
     "output_type": "stream",
     "text": [
      "    Found the data of interest:\n",
      "        t =    -500.00 ...    8195.00 ms\n",
      "        0 CTF compensation matrices available\n",
      "Not setting metadata\n",
      "710 matching events found\n",
      "No baseline correction applied\n",
      "0 projection items activated\n",
      "Setting up band-pass filter from 2 - 30 Hz\n",
      "\n",
      "FIR filter parameters\n",
      "---------------------\n",
      "Designing a one-pass, zero-phase, non-causal bandpass filter:\n",
      "- Windowed time-domain design (firwin) method\n",
      "- Hamming window with 0.0194 passband ripple and 53 dB stopband attenuation\n",
      "- Lower passband edge: 2.00\n",
      "- Lower transition bandwidth: 2.00 Hz (-6 dB cutoff frequency: 1.00 Hz)\n",
      "- Upper passband edge: 30.00 Hz\n",
      "- Upper transition bandwidth: 7.50 Hz (-6 dB cutoff frequency: 33.75 Hz)\n",
      "- Filter length: 331 samples (1.655 sec)\n",
      "\n"
     ]
    },
    {
     "name": "stderr",
     "output_type": "stream",
     "text": [
      "[Parallel(n_jobs=1)]: Using backend SequentialBackend with 1 concurrent workers.\n",
      "[Parallel(n_jobs=1)]: Done   1 out of   1 | elapsed:    0.0s remaining:    0.0s\n",
      "[Parallel(n_jobs=1)]: Done   2 out of   2 | elapsed:    0.0s remaining:    0.0s\n",
      "[Parallel(n_jobs=1)]: Done   3 out of   3 | elapsed:    0.0s remaining:    0.0s\n",
      "[Parallel(n_jobs=1)]: Done   4 out of   4 | elapsed:    0.0s remaining:    0.0s\n",
      "[Parallel(n_jobs=1)]: Done 217260 out of 217260 | elapsed:  1.8min finished\n",
      "/tmp/ipykernel_34995/4126073635.py:70: RuntimeWarning: This filename (/data/pt_02774/memory_grid/mg20/mg20ALL_epo_rsample_reject_filter_30_100.fif) does not conform to MNE naming conventions. All epochs files should end with -epo.fif, -epo.fif.gz, _epo.fif or _epo.fif.gz\n",
      "  epochs.save(fname_out, overwrite=True)\n"
     ]
    },
    {
     "name": "stdout",
     "output_type": "stream",
     "text": [
      "\n",
      "\n",
      "\n",
      "\n",
      "\n",
      "#######################################################################################\n",
      "Processing subject: mg21\n",
      "Reading /data/pt_02774/memory_grid/mg21/mg21ALL_epo_rsample_reject.fif ...\n"
     ]
    },
    {
     "name": "stderr",
     "output_type": "stream",
     "text": [
      "/tmp/ipykernel_34995/4126073635.py:63: RuntimeWarning: This filename (/data/pt_02774/memory_grid/mg21/mg21ALL_epo_rsample_reject.fif) does not conform to MNE naming conventions. All epochs files should end with -epo.fif, -epo.fif.gz, _epo.fif or _epo.fif.gz\n",
      "  epochs =  mne.read_epochs(fname_epo,\n"
     ]
    },
    {
     "name": "stdout",
     "output_type": "stream",
     "text": [
      "    Found the data of interest:\n",
      "        t =    -500.00 ...    8195.00 ms\n",
      "        0 CTF compensation matrices available\n",
      "Not setting metadata\n",
      "717 matching events found\n",
      "No baseline correction applied\n",
      "0 projection items activated\n",
      "Setting up band-pass filter from 2 - 30 Hz\n",
      "\n",
      "FIR filter parameters\n",
      "---------------------\n",
      "Designing a one-pass, zero-phase, non-causal bandpass filter:\n",
      "- Windowed time-domain design (firwin) method\n",
      "- Hamming window with 0.0194 passband ripple and 53 dB stopband attenuation\n",
      "- Lower passband edge: 2.00\n",
      "- Lower transition bandwidth: 2.00 Hz (-6 dB cutoff frequency: 1.00 Hz)\n",
      "- Upper passband edge: 30.00 Hz\n",
      "- Upper transition bandwidth: 7.50 Hz (-6 dB cutoff frequency: 33.75 Hz)\n",
      "- Filter length: 331 samples (1.655 sec)\n",
      "\n"
     ]
    },
    {
     "name": "stderr",
     "output_type": "stream",
     "text": [
      "[Parallel(n_jobs=1)]: Using backend SequentialBackend with 1 concurrent workers.\n",
      "[Parallel(n_jobs=1)]: Done   1 out of   1 | elapsed:    0.0s remaining:    0.0s\n",
      "[Parallel(n_jobs=1)]: Done   2 out of   2 | elapsed:    0.0s remaining:    0.0s\n",
      "[Parallel(n_jobs=1)]: Done   3 out of   3 | elapsed:    0.0s remaining:    0.0s\n",
      "[Parallel(n_jobs=1)]: Done   4 out of   4 | elapsed:    0.0s remaining:    0.0s\n",
      "[Parallel(n_jobs=1)]: Done 219402 out of 219402 | elapsed:  1.9min finished\n",
      "/tmp/ipykernel_34995/4126073635.py:70: RuntimeWarning: This filename (/data/pt_02774/memory_grid/mg21/mg21ALL_epo_rsample_reject_filter_30_100.fif) does not conform to MNE naming conventions. All epochs files should end with -epo.fif, -epo.fif.gz, _epo.fif or _epo.fif.gz\n",
      "  epochs.save(fname_out, overwrite=True)\n"
     ]
    },
    {
     "name": "stdout",
     "output_type": "stream",
     "text": [
      "\n",
      "\n",
      "\n",
      "\n",
      "\n",
      "#######################################################################################\n",
      "Processing subject: mg22\n",
      "Reading /data/pt_02774/memory_grid/mg22/mg22ALL_epo_rsample_reject.fif ...\n"
     ]
    },
    {
     "name": "stderr",
     "output_type": "stream",
     "text": [
      "/tmp/ipykernel_34995/4126073635.py:63: RuntimeWarning: This filename (/data/pt_02774/memory_grid/mg22/mg22ALL_epo_rsample_reject.fif) does not conform to MNE naming conventions. All epochs files should end with -epo.fif, -epo.fif.gz, _epo.fif or _epo.fif.gz\n",
      "  epochs =  mne.read_epochs(fname_epo,\n"
     ]
    },
    {
     "name": "stdout",
     "output_type": "stream",
     "text": [
      "    Found the data of interest:\n",
      "        t =    -500.00 ...    8195.00 ms\n",
      "        0 CTF compensation matrices available\n",
      "Not setting metadata\n",
      "710 matching events found\n",
      "No baseline correction applied\n",
      "0 projection items activated\n",
      "Setting up band-pass filter from 2 - 30 Hz\n",
      "\n",
      "FIR filter parameters\n",
      "---------------------\n",
      "Designing a one-pass, zero-phase, non-causal bandpass filter:\n",
      "- Windowed time-domain design (firwin) method\n",
      "- Hamming window with 0.0194 passband ripple and 53 dB stopband attenuation\n",
      "- Lower passband edge: 2.00\n",
      "- Lower transition bandwidth: 2.00 Hz (-6 dB cutoff frequency: 1.00 Hz)\n",
      "- Upper passband edge: 30.00 Hz\n",
      "- Upper transition bandwidth: 7.50 Hz (-6 dB cutoff frequency: 33.75 Hz)\n",
      "- Filter length: 331 samples (1.655 sec)\n",
      "\n"
     ]
    },
    {
     "name": "stderr",
     "output_type": "stream",
     "text": [
      "[Parallel(n_jobs=1)]: Using backend SequentialBackend with 1 concurrent workers.\n",
      "[Parallel(n_jobs=1)]: Done   1 out of   1 | elapsed:    0.0s remaining:    0.0s\n",
      "[Parallel(n_jobs=1)]: Done   2 out of   2 | elapsed:    0.0s remaining:    0.0s\n",
      "[Parallel(n_jobs=1)]: Done   3 out of   3 | elapsed:    0.0s remaining:    0.0s\n",
      "[Parallel(n_jobs=1)]: Done   4 out of   4 | elapsed:    0.0s remaining:    0.0s\n",
      "[Parallel(n_jobs=1)]: Done 217260 out of 217260 | elapsed:  1.8min finished\n",
      "/tmp/ipykernel_34995/4126073635.py:70: RuntimeWarning: This filename (/data/pt_02774/memory_grid/mg22/mg22ALL_epo_rsample_reject_filter_30_100.fif) does not conform to MNE naming conventions. All epochs files should end with -epo.fif, -epo.fif.gz, _epo.fif or _epo.fif.gz\n",
      "  epochs.save(fname_out, overwrite=True)\n"
     ]
    },
    {
     "name": "stdout",
     "output_type": "stream",
     "text": [
      "\n",
      "\n",
      "\n",
      "\n",
      "\n",
      "#######################################################################################\n",
      "Processing subject: mg23\n",
      "Reading /data/pt_02774/memory_grid/mg23/mg23ALL_epo_rsample_reject.fif ...\n"
     ]
    },
    {
     "name": "stderr",
     "output_type": "stream",
     "text": [
      "/tmp/ipykernel_34995/4126073635.py:63: RuntimeWarning: This filename (/data/pt_02774/memory_grid/mg23/mg23ALL_epo_rsample_reject.fif) does not conform to MNE naming conventions. All epochs files should end with -epo.fif, -epo.fif.gz, _epo.fif or _epo.fif.gz\n",
      "  epochs =  mne.read_epochs(fname_epo,\n"
     ]
    },
    {
     "name": "stdout",
     "output_type": "stream",
     "text": [
      "    Found the data of interest:\n",
      "        t =    -500.00 ...    8195.00 ms\n",
      "        0 CTF compensation matrices available\n",
      "Not setting metadata\n",
      "719 matching events found\n",
      "No baseline correction applied\n",
      "0 projection items activated\n",
      "Setting up band-pass filter from 2 - 30 Hz\n",
      "\n",
      "FIR filter parameters\n",
      "---------------------\n",
      "Designing a one-pass, zero-phase, non-causal bandpass filter:\n",
      "- Windowed time-domain design (firwin) method\n",
      "- Hamming window with 0.0194 passband ripple and 53 dB stopband attenuation\n",
      "- Lower passband edge: 2.00\n",
      "- Lower transition bandwidth: 2.00 Hz (-6 dB cutoff frequency: 1.00 Hz)\n",
      "- Upper passband edge: 30.00 Hz\n",
      "- Upper transition bandwidth: 7.50 Hz (-6 dB cutoff frequency: 33.75 Hz)\n",
      "- Filter length: 331 samples (1.655 sec)\n",
      "\n"
     ]
    },
    {
     "name": "stderr",
     "output_type": "stream",
     "text": [
      "[Parallel(n_jobs=1)]: Using backend SequentialBackend with 1 concurrent workers.\n",
      "[Parallel(n_jobs=1)]: Done   1 out of   1 | elapsed:    0.0s remaining:    0.0s\n",
      "[Parallel(n_jobs=1)]: Done   2 out of   2 | elapsed:    0.0s remaining:    0.0s\n",
      "[Parallel(n_jobs=1)]: Done   3 out of   3 | elapsed:    0.0s remaining:    0.0s\n",
      "[Parallel(n_jobs=1)]: Done   4 out of   4 | elapsed:    0.0s remaining:    0.0s\n",
      "[Parallel(n_jobs=1)]: Done 220014 out of 220014 | elapsed:  2.0min finished\n",
      "/tmp/ipykernel_34995/4126073635.py:70: RuntimeWarning: This filename (/data/pt_02774/memory_grid/mg23/mg23ALL_epo_rsample_reject_filter_30_100.fif) does not conform to MNE naming conventions. All epochs files should end with -epo.fif, -epo.fif.gz, _epo.fif or _epo.fif.gz\n",
      "  epochs.save(fname_out, overwrite=True)\n"
     ]
    },
    {
     "name": "stdout",
     "output_type": "stream",
     "text": [
      "\n",
      "\n",
      "\n",
      "\n",
      "\n",
      "#######################################################################################\n",
      "Processing subject: mg24\n",
      "Reading /data/pt_02774/memory_grid/mg24/mg24ALL_epo_rsample_reject.fif ...\n"
     ]
    },
    {
     "name": "stderr",
     "output_type": "stream",
     "text": [
      "/tmp/ipykernel_34995/4126073635.py:63: RuntimeWarning: This filename (/data/pt_02774/memory_grid/mg24/mg24ALL_epo_rsample_reject.fif) does not conform to MNE naming conventions. All epochs files should end with -epo.fif, -epo.fif.gz, _epo.fif or _epo.fif.gz\n",
      "  epochs =  mne.read_epochs(fname_epo,\n"
     ]
    },
    {
     "name": "stdout",
     "output_type": "stream",
     "text": [
      "    Found the data of interest:\n",
      "        t =    -500.00 ...    8195.00 ms\n",
      "        0 CTF compensation matrices available\n",
      "Not setting metadata\n",
      "717 matching events found\n",
      "No baseline correction applied\n",
      "0 projection items activated\n",
      "Setting up band-pass filter from 2 - 30 Hz\n",
      "\n",
      "FIR filter parameters\n",
      "---------------------\n",
      "Designing a one-pass, zero-phase, non-causal bandpass filter:\n",
      "- Windowed time-domain design (firwin) method\n",
      "- Hamming window with 0.0194 passband ripple and 53 dB stopband attenuation\n",
      "- Lower passband edge: 2.00\n",
      "- Lower transition bandwidth: 2.00 Hz (-6 dB cutoff frequency: 1.00 Hz)\n",
      "- Upper passband edge: 30.00 Hz\n",
      "- Upper transition bandwidth: 7.50 Hz (-6 dB cutoff frequency: 33.75 Hz)\n",
      "- Filter length: 331 samples (1.655 sec)\n",
      "\n"
     ]
    },
    {
     "name": "stderr",
     "output_type": "stream",
     "text": [
      "[Parallel(n_jobs=1)]: Using backend SequentialBackend with 1 concurrent workers.\n",
      "[Parallel(n_jobs=1)]: Done   1 out of   1 | elapsed:    0.0s remaining:    0.0s\n",
      "[Parallel(n_jobs=1)]: Done   2 out of   2 | elapsed:    0.0s remaining:    0.0s\n",
      "[Parallel(n_jobs=1)]: Done   3 out of   3 | elapsed:    0.0s remaining:    0.0s\n",
      "[Parallel(n_jobs=1)]: Done   4 out of   4 | elapsed:    0.0s remaining:    0.0s\n",
      "[Parallel(n_jobs=1)]: Done 219402 out of 219402 | elapsed:  1.8min finished\n",
      "/tmp/ipykernel_34995/4126073635.py:70: RuntimeWarning: This filename (/data/pt_02774/memory_grid/mg24/mg24ALL_epo_rsample_reject_filter_30_100.fif) does not conform to MNE naming conventions. All epochs files should end with -epo.fif, -epo.fif.gz, _epo.fif or _epo.fif.gz\n",
      "  epochs.save(fname_out, overwrite=True)\n"
     ]
    },
    {
     "name": "stdout",
     "output_type": "stream",
     "text": [
      "\n",
      "\n",
      "\n",
      "\n",
      "\n",
      "#######################################################################################\n",
      "Processing subject: mg25\n",
      "Reading /data/pt_02774/memory_grid/mg25/mg25ALL_epo_rsample_reject.fif ...\n"
     ]
    },
    {
     "name": "stderr",
     "output_type": "stream",
     "text": [
      "/tmp/ipykernel_34995/4126073635.py:63: RuntimeWarning: This filename (/data/pt_02774/memory_grid/mg25/mg25ALL_epo_rsample_reject.fif) does not conform to MNE naming conventions. All epochs files should end with -epo.fif, -epo.fif.gz, _epo.fif or _epo.fif.gz\n",
      "  epochs =  mne.read_epochs(fname_epo,\n"
     ]
    },
    {
     "name": "stdout",
     "output_type": "stream",
     "text": [
      "    Found the data of interest:\n",
      "        t =    -500.00 ...    8195.00 ms\n",
      "        0 CTF compensation matrices available\n",
      "Not setting metadata\n",
      "716 matching events found\n",
      "No baseline correction applied\n",
      "0 projection items activated\n",
      "Setting up band-pass filter from 2 - 30 Hz\n",
      "\n",
      "FIR filter parameters\n",
      "---------------------\n",
      "Designing a one-pass, zero-phase, non-causal bandpass filter:\n",
      "- Windowed time-domain design (firwin) method\n",
      "- Hamming window with 0.0194 passband ripple and 53 dB stopband attenuation\n",
      "- Lower passband edge: 2.00\n",
      "- Lower transition bandwidth: 2.00 Hz (-6 dB cutoff frequency: 1.00 Hz)\n",
      "- Upper passband edge: 30.00 Hz\n",
      "- Upper transition bandwidth: 7.50 Hz (-6 dB cutoff frequency: 33.75 Hz)\n",
      "- Filter length: 331 samples (1.655 sec)\n",
      "\n"
     ]
    },
    {
     "name": "stderr",
     "output_type": "stream",
     "text": [
      "[Parallel(n_jobs=1)]: Using backend SequentialBackend with 1 concurrent workers.\n",
      "[Parallel(n_jobs=1)]: Done   1 out of   1 | elapsed:    0.0s remaining:    0.0s\n",
      "[Parallel(n_jobs=1)]: Done   2 out of   2 | elapsed:    0.0s remaining:    0.0s\n",
      "[Parallel(n_jobs=1)]: Done   3 out of   3 | elapsed:    0.0s remaining:    0.0s\n",
      "[Parallel(n_jobs=1)]: Done   4 out of   4 | elapsed:    0.0s remaining:    0.0s\n",
      "[Parallel(n_jobs=1)]: Done 219096 out of 219096 | elapsed:  1.8min finished\n",
      "/tmp/ipykernel_34995/4126073635.py:70: RuntimeWarning: This filename (/data/pt_02774/memory_grid/mg25/mg25ALL_epo_rsample_reject_filter_30_100.fif) does not conform to MNE naming conventions. All epochs files should end with -epo.fif, -epo.fif.gz, _epo.fif or _epo.fif.gz\n",
      "  epochs.save(fname_out, overwrite=True)\n"
     ]
    },
    {
     "name": "stdout",
     "output_type": "stream",
     "text": [
      "\n",
      "\n",
      "\n",
      "\n",
      "\n",
      "#######################################################################################\n",
      "Processing subject: mg26\n",
      "Reading /data/pt_02774/memory_grid/mg26/mg26ALL_epo_rsample_reject.fif ...\n"
     ]
    },
    {
     "name": "stderr",
     "output_type": "stream",
     "text": [
      "/tmp/ipykernel_34995/4126073635.py:63: RuntimeWarning: This filename (/data/pt_02774/memory_grid/mg26/mg26ALL_epo_rsample_reject.fif) does not conform to MNE naming conventions. All epochs files should end with -epo.fif, -epo.fif.gz, _epo.fif or _epo.fif.gz\n",
      "  epochs =  mne.read_epochs(fname_epo,\n"
     ]
    },
    {
     "name": "stdout",
     "output_type": "stream",
     "text": [
      "    Found the data of interest:\n",
      "        t =    -500.00 ...    8195.00 ms\n",
      "        0 CTF compensation matrices available\n",
      "Not setting metadata\n",
      "709 matching events found\n",
      "No baseline correction applied\n",
      "0 projection items activated\n",
      "Setting up band-pass filter from 2 - 30 Hz\n",
      "\n",
      "FIR filter parameters\n",
      "---------------------\n",
      "Designing a one-pass, zero-phase, non-causal bandpass filter:\n",
      "- Windowed time-domain design (firwin) method\n",
      "- Hamming window with 0.0194 passband ripple and 53 dB stopband attenuation\n",
      "- Lower passband edge: 2.00\n",
      "- Lower transition bandwidth: 2.00 Hz (-6 dB cutoff frequency: 1.00 Hz)\n",
      "- Upper passband edge: 30.00 Hz\n",
      "- Upper transition bandwidth: 7.50 Hz (-6 dB cutoff frequency: 33.75 Hz)\n",
      "- Filter length: 331 samples (1.655 sec)\n",
      "\n"
     ]
    },
    {
     "name": "stderr",
     "output_type": "stream",
     "text": [
      "[Parallel(n_jobs=1)]: Using backend SequentialBackend with 1 concurrent workers.\n",
      "[Parallel(n_jobs=1)]: Done   1 out of   1 | elapsed:    0.0s remaining:    0.0s\n",
      "[Parallel(n_jobs=1)]: Done   2 out of   2 | elapsed:    0.0s remaining:    0.0s\n",
      "[Parallel(n_jobs=1)]: Done   3 out of   3 | elapsed:    0.0s remaining:    0.0s\n",
      "[Parallel(n_jobs=1)]: Done   4 out of   4 | elapsed:    0.0s remaining:    0.0s\n",
      "[Parallel(n_jobs=1)]: Done 216954 out of 216954 | elapsed:  1.7min finished\n",
      "/tmp/ipykernel_34995/4126073635.py:70: RuntimeWarning: This filename (/data/pt_02774/memory_grid/mg26/mg26ALL_epo_rsample_reject_filter_30_100.fif) does not conform to MNE naming conventions. All epochs files should end with -epo.fif, -epo.fif.gz, _epo.fif or _epo.fif.gz\n",
      "  epochs.save(fname_out, overwrite=True)\n"
     ]
    },
    {
     "name": "stdout",
     "output_type": "stream",
     "text": [
      "\n",
      "\n",
      "\n",
      "\n",
      "\n",
      "#######################################################################################\n",
      "Processing subject: mg27\n",
      "Reading /data/pt_02774/memory_grid/mg27/mg27ALL_epo_rsample_reject.fif ...\n"
     ]
    },
    {
     "name": "stderr",
     "output_type": "stream",
     "text": [
      "/tmp/ipykernel_34995/4126073635.py:63: RuntimeWarning: This filename (/data/pt_02774/memory_grid/mg27/mg27ALL_epo_rsample_reject.fif) does not conform to MNE naming conventions. All epochs files should end with -epo.fif, -epo.fif.gz, _epo.fif or _epo.fif.gz\n",
      "  epochs =  mne.read_epochs(fname_epo,\n"
     ]
    },
    {
     "name": "stdout",
     "output_type": "stream",
     "text": [
      "    Found the data of interest:\n",
      "        t =    -500.00 ...    8195.00 ms\n",
      "        0 CTF compensation matrices available\n",
      "Not setting metadata\n",
      "711 matching events found\n",
      "No baseline correction applied\n",
      "0 projection items activated\n",
      "Setting up band-pass filter from 2 - 30 Hz\n",
      "\n",
      "FIR filter parameters\n",
      "---------------------\n",
      "Designing a one-pass, zero-phase, non-causal bandpass filter:\n",
      "- Windowed time-domain design (firwin) method\n",
      "- Hamming window with 0.0194 passband ripple and 53 dB stopband attenuation\n",
      "- Lower passband edge: 2.00\n",
      "- Lower transition bandwidth: 2.00 Hz (-6 dB cutoff frequency: 1.00 Hz)\n",
      "- Upper passband edge: 30.00 Hz\n",
      "- Upper transition bandwidth: 7.50 Hz (-6 dB cutoff frequency: 33.75 Hz)\n",
      "- Filter length: 331 samples (1.655 sec)\n",
      "\n"
     ]
    },
    {
     "name": "stderr",
     "output_type": "stream",
     "text": [
      "[Parallel(n_jobs=1)]: Using backend SequentialBackend with 1 concurrent workers.\n",
      "[Parallel(n_jobs=1)]: Done   1 out of   1 | elapsed:    0.0s remaining:    0.0s\n",
      "[Parallel(n_jobs=1)]: Done   2 out of   2 | elapsed:    0.0s remaining:    0.0s\n",
      "[Parallel(n_jobs=1)]: Done   3 out of   3 | elapsed:    0.0s remaining:    0.0s\n",
      "[Parallel(n_jobs=1)]: Done   4 out of   4 | elapsed:    0.0s remaining:    0.0s\n",
      "[Parallel(n_jobs=1)]: Done 217566 out of 217566 | elapsed:  2.0min finished\n",
      "/tmp/ipykernel_34995/4126073635.py:70: RuntimeWarning: This filename (/data/pt_02774/memory_grid/mg27/mg27ALL_epo_rsample_reject_filter_30_100.fif) does not conform to MNE naming conventions. All epochs files should end with -epo.fif, -epo.fif.gz, _epo.fif or _epo.fif.gz\n",
      "  epochs.save(fname_out, overwrite=True)\n"
     ]
    },
    {
     "name": "stdout",
     "output_type": "stream",
     "text": [
      "\n",
      "\n",
      "\n",
      "\n",
      "\n",
      "#######################################################################################\n",
      "Processing subject: mg28\n",
      "Reading /data/pt_02774/memory_grid/mg28/mg28ALL_epo_rsample_reject.fif ...\n"
     ]
    },
    {
     "name": "stderr",
     "output_type": "stream",
     "text": [
      "/tmp/ipykernel_34995/4126073635.py:63: RuntimeWarning: This filename (/data/pt_02774/memory_grid/mg28/mg28ALL_epo_rsample_reject.fif) does not conform to MNE naming conventions. All epochs files should end with -epo.fif, -epo.fif.gz, _epo.fif or _epo.fif.gz\n",
      "  epochs =  mne.read_epochs(fname_epo,\n"
     ]
    },
    {
     "name": "stdout",
     "output_type": "stream",
     "text": [
      "    Found the data of interest:\n",
      "        t =    -500.00 ...    8195.00 ms\n",
      "        0 CTF compensation matrices available\n",
      "Not setting metadata\n",
      "715 matching events found\n",
      "No baseline correction applied\n",
      "0 projection items activated\n",
      "Setting up band-pass filter from 2 - 30 Hz\n",
      "\n",
      "FIR filter parameters\n",
      "---------------------\n",
      "Designing a one-pass, zero-phase, non-causal bandpass filter:\n",
      "- Windowed time-domain design (firwin) method\n",
      "- Hamming window with 0.0194 passband ripple and 53 dB stopband attenuation\n",
      "- Lower passband edge: 2.00\n",
      "- Lower transition bandwidth: 2.00 Hz (-6 dB cutoff frequency: 1.00 Hz)\n",
      "- Upper passband edge: 30.00 Hz\n",
      "- Upper transition bandwidth: 7.50 Hz (-6 dB cutoff frequency: 33.75 Hz)\n",
      "- Filter length: 331 samples (1.655 sec)\n",
      "\n"
     ]
    },
    {
     "name": "stderr",
     "output_type": "stream",
     "text": [
      "[Parallel(n_jobs=1)]: Using backend SequentialBackend with 1 concurrent workers.\n",
      "[Parallel(n_jobs=1)]: Done   1 out of   1 | elapsed:    0.0s remaining:    0.0s\n",
      "[Parallel(n_jobs=1)]: Done   2 out of   2 | elapsed:    0.0s remaining:    0.0s\n",
      "[Parallel(n_jobs=1)]: Done   3 out of   3 | elapsed:    0.0s remaining:    0.0s\n",
      "[Parallel(n_jobs=1)]: Done   4 out of   4 | elapsed:    0.0s remaining:    0.0s\n",
      "[Parallel(n_jobs=1)]: Done 218790 out of 218790 | elapsed:  1.8min finished\n",
      "/tmp/ipykernel_34995/4126073635.py:70: RuntimeWarning: This filename (/data/pt_02774/memory_grid/mg28/mg28ALL_epo_rsample_reject_filter_30_100.fif) does not conform to MNE naming conventions. All epochs files should end with -epo.fif, -epo.fif.gz, _epo.fif or _epo.fif.gz\n",
      "  epochs.save(fname_out, overwrite=True)\n"
     ]
    },
    {
     "name": "stdout",
     "output_type": "stream",
     "text": [
      "\n",
      "\n",
      "\n",
      "\n",
      "\n",
      "#######################################################################################\n",
      "Processing subject: mg30\n",
      "Reading /data/pt_02774/memory_grid/mg30/mg30ALL_epo_rsample_reject.fif ...\n"
     ]
    },
    {
     "name": "stderr",
     "output_type": "stream",
     "text": [
      "/tmp/ipykernel_34995/4126073635.py:63: RuntimeWarning: This filename (/data/pt_02774/memory_grid/mg30/mg30ALL_epo_rsample_reject.fif) does not conform to MNE naming conventions. All epochs files should end with -epo.fif, -epo.fif.gz, _epo.fif or _epo.fif.gz\n",
      "  epochs =  mne.read_epochs(fname_epo,\n"
     ]
    },
    {
     "name": "stdout",
     "output_type": "stream",
     "text": [
      "    Found the data of interest:\n",
      "        t =    -500.00 ...    8195.00 ms\n",
      "        0 CTF compensation matrices available\n",
      "Not setting metadata\n",
      "717 matching events found\n",
      "No baseline correction applied\n",
      "0 projection items activated\n",
      "Setting up band-pass filter from 2 - 30 Hz\n",
      "\n",
      "FIR filter parameters\n",
      "---------------------\n",
      "Designing a one-pass, zero-phase, non-causal bandpass filter:\n",
      "- Windowed time-domain design (firwin) method\n",
      "- Hamming window with 0.0194 passband ripple and 53 dB stopband attenuation\n",
      "- Lower passband edge: 2.00\n",
      "- Lower transition bandwidth: 2.00 Hz (-6 dB cutoff frequency: 1.00 Hz)\n",
      "- Upper passband edge: 30.00 Hz\n",
      "- Upper transition bandwidth: 7.50 Hz (-6 dB cutoff frequency: 33.75 Hz)\n",
      "- Filter length: 331 samples (1.655 sec)\n",
      "\n"
     ]
    },
    {
     "name": "stderr",
     "output_type": "stream",
     "text": [
      "[Parallel(n_jobs=1)]: Using backend SequentialBackend with 1 concurrent workers.\n",
      "[Parallel(n_jobs=1)]: Done   1 out of   1 | elapsed:    0.0s remaining:    0.0s\n",
      "[Parallel(n_jobs=1)]: Done   2 out of   2 | elapsed:    0.0s remaining:    0.0s\n",
      "[Parallel(n_jobs=1)]: Done   3 out of   3 | elapsed:    0.0s remaining:    0.0s\n",
      "[Parallel(n_jobs=1)]: Done   4 out of   4 | elapsed:    0.0s remaining:    0.0s\n",
      "[Parallel(n_jobs=1)]: Done 219402 out of 219402 | elapsed:  2.1min finished\n",
      "/tmp/ipykernel_34995/4126073635.py:70: RuntimeWarning: This filename (/data/pt_02774/memory_grid/mg30/mg30ALL_epo_rsample_reject_filter_30_100.fif) does not conform to MNE naming conventions. All epochs files should end with -epo.fif, -epo.fif.gz, _epo.fif or _epo.fif.gz\n",
      "  epochs.save(fname_out, overwrite=True)\n"
     ]
    },
    {
     "name": "stdout",
     "output_type": "stream",
     "text": [
      "\n",
      "\n",
      "\n",
      "\n",
      "\n",
      "#######################################################################################\n",
      "Processing subject: mg31\n",
      "Reading /data/pt_02774/memory_grid/mg31/mg31ALL_epo_rsample_reject.fif ...\n"
     ]
    },
    {
     "name": "stderr",
     "output_type": "stream",
     "text": [
      "/tmp/ipykernel_34995/4126073635.py:63: RuntimeWarning: This filename (/data/pt_02774/memory_grid/mg31/mg31ALL_epo_rsample_reject.fif) does not conform to MNE naming conventions. All epochs files should end with -epo.fif, -epo.fif.gz, _epo.fif or _epo.fif.gz\n",
      "  epochs =  mne.read_epochs(fname_epo,\n"
     ]
    },
    {
     "name": "stdout",
     "output_type": "stream",
     "text": [
      "    Found the data of interest:\n",
      "        t =    -500.00 ...    8195.00 ms\n",
      "        0 CTF compensation matrices available\n",
      "Not setting metadata\n",
      "719 matching events found\n",
      "No baseline correction applied\n",
      "0 projection items activated\n",
      "Setting up band-pass filter from 2 - 30 Hz\n",
      "\n",
      "FIR filter parameters\n",
      "---------------------\n",
      "Designing a one-pass, zero-phase, non-causal bandpass filter:\n",
      "- Windowed time-domain design (firwin) method\n",
      "- Hamming window with 0.0194 passband ripple and 53 dB stopband attenuation\n",
      "- Lower passband edge: 2.00\n",
      "- Lower transition bandwidth: 2.00 Hz (-6 dB cutoff frequency: 1.00 Hz)\n",
      "- Upper passband edge: 30.00 Hz\n",
      "- Upper transition bandwidth: 7.50 Hz (-6 dB cutoff frequency: 33.75 Hz)\n",
      "- Filter length: 331 samples (1.655 sec)\n",
      "\n"
     ]
    },
    {
     "name": "stderr",
     "output_type": "stream",
     "text": [
      "[Parallel(n_jobs=1)]: Using backend SequentialBackend with 1 concurrent workers.\n",
      "[Parallel(n_jobs=1)]: Done   1 out of   1 | elapsed:    0.0s remaining:    0.0s\n",
      "[Parallel(n_jobs=1)]: Done   2 out of   2 | elapsed:    0.0s remaining:    0.0s\n",
      "[Parallel(n_jobs=1)]: Done   3 out of   3 | elapsed:    0.0s remaining:    0.0s\n",
      "[Parallel(n_jobs=1)]: Done   4 out of   4 | elapsed:    0.0s remaining:    0.0s\n",
      "[Parallel(n_jobs=1)]: Done 220014 out of 220014 | elapsed:  1.8min finished\n",
      "/tmp/ipykernel_34995/4126073635.py:70: RuntimeWarning: This filename (/data/pt_02774/memory_grid/mg31/mg31ALL_epo_rsample_reject_filter_30_100.fif) does not conform to MNE naming conventions. All epochs files should end with -epo.fif, -epo.fif.gz, _epo.fif or _epo.fif.gz\n",
      "  epochs.save(fname_out, overwrite=True)\n"
     ]
    },
    {
     "name": "stdout",
     "output_type": "stream",
     "text": [
      "\n",
      "\n",
      "\n",
      "\n",
      "\n",
      "#######################################################################################\n",
      "Processing subject: mg32\n",
      "Reading /data/pt_02774/memory_grid/mg32/mg32ALL_epo_rsample_reject.fif ...\n"
     ]
    },
    {
     "name": "stderr",
     "output_type": "stream",
     "text": [
      "/tmp/ipykernel_34995/4126073635.py:63: RuntimeWarning: This filename (/data/pt_02774/memory_grid/mg32/mg32ALL_epo_rsample_reject.fif) does not conform to MNE naming conventions. All epochs files should end with -epo.fif, -epo.fif.gz, _epo.fif or _epo.fif.gz\n",
      "  epochs =  mne.read_epochs(fname_epo,\n"
     ]
    },
    {
     "name": "stdout",
     "output_type": "stream",
     "text": [
      "    Found the data of interest:\n",
      "        t =    -500.00 ...    8195.00 ms\n",
      "        0 CTF compensation matrices available\n",
      "Not setting metadata\n",
      "718 matching events found\n",
      "No baseline correction applied\n",
      "0 projection items activated\n",
      "Setting up band-pass filter from 2 - 30 Hz\n",
      "\n",
      "FIR filter parameters\n",
      "---------------------\n",
      "Designing a one-pass, zero-phase, non-causal bandpass filter:\n",
      "- Windowed time-domain design (firwin) method\n",
      "- Hamming window with 0.0194 passband ripple and 53 dB stopband attenuation\n",
      "- Lower passband edge: 2.00\n",
      "- Lower transition bandwidth: 2.00 Hz (-6 dB cutoff frequency: 1.00 Hz)\n",
      "- Upper passband edge: 30.00 Hz\n",
      "- Upper transition bandwidth: 7.50 Hz (-6 dB cutoff frequency: 33.75 Hz)\n",
      "- Filter length: 331 samples (1.655 sec)\n",
      "\n"
     ]
    },
    {
     "name": "stderr",
     "output_type": "stream",
     "text": [
      "[Parallel(n_jobs=1)]: Using backend SequentialBackend with 1 concurrent workers.\n",
      "[Parallel(n_jobs=1)]: Done   1 out of   1 | elapsed:    0.0s remaining:    0.0s\n",
      "[Parallel(n_jobs=1)]: Done   2 out of   2 | elapsed:    0.0s remaining:    0.0s\n",
      "[Parallel(n_jobs=1)]: Done   3 out of   3 | elapsed:    0.0s remaining:    0.0s\n",
      "[Parallel(n_jobs=1)]: Done   4 out of   4 | elapsed:    0.0s remaining:    0.0s\n",
      "[Parallel(n_jobs=1)]: Done 219708 out of 219708 | elapsed:  1.8min finished\n",
      "/tmp/ipykernel_34995/4126073635.py:70: RuntimeWarning: This filename (/data/pt_02774/memory_grid/mg32/mg32ALL_epo_rsample_reject_filter_30_100.fif) does not conform to MNE naming conventions. All epochs files should end with -epo.fif, -epo.fif.gz, _epo.fif or _epo.fif.gz\n",
      "  epochs.save(fname_out, overwrite=True)\n"
     ]
    },
    {
     "name": "stdout",
     "output_type": "stream",
     "text": [
      "\n",
      "\n",
      "\n",
      "\n",
      "\n",
      "#######################################################################################\n",
      "Processing subject: mg33\n",
      "Reading /data/pt_02774/memory_grid/mg33/mg33ALL_epo_rsample_reject.fif ...\n"
     ]
    },
    {
     "name": "stderr",
     "output_type": "stream",
     "text": [
      "/tmp/ipykernel_34995/4126073635.py:63: RuntimeWarning: This filename (/data/pt_02774/memory_grid/mg33/mg33ALL_epo_rsample_reject.fif) does not conform to MNE naming conventions. All epochs files should end with -epo.fif, -epo.fif.gz, _epo.fif or _epo.fif.gz\n",
      "  epochs =  mne.read_epochs(fname_epo,\n"
     ]
    },
    {
     "name": "stdout",
     "output_type": "stream",
     "text": [
      "    Found the data of interest:\n",
      "        t =    -500.00 ...    8195.00 ms\n",
      "        0 CTF compensation matrices available\n",
      "Not setting metadata\n",
      "719 matching events found\n",
      "No baseline correction applied\n",
      "0 projection items activated\n",
      "Setting up band-pass filter from 2 - 30 Hz\n",
      "\n",
      "FIR filter parameters\n",
      "---------------------\n",
      "Designing a one-pass, zero-phase, non-causal bandpass filter:\n",
      "- Windowed time-domain design (firwin) method\n",
      "- Hamming window with 0.0194 passband ripple and 53 dB stopband attenuation\n",
      "- Lower passband edge: 2.00\n",
      "- Lower transition bandwidth: 2.00 Hz (-6 dB cutoff frequency: 1.00 Hz)\n",
      "- Upper passband edge: 30.00 Hz\n",
      "- Upper transition bandwidth: 7.50 Hz (-6 dB cutoff frequency: 33.75 Hz)\n",
      "- Filter length: 331 samples (1.655 sec)\n",
      "\n"
     ]
    },
    {
     "name": "stderr",
     "output_type": "stream",
     "text": [
      "[Parallel(n_jobs=1)]: Using backend SequentialBackend with 1 concurrent workers.\n",
      "[Parallel(n_jobs=1)]: Done   1 out of   1 | elapsed:    0.0s remaining:    0.0s\n",
      "[Parallel(n_jobs=1)]: Done   2 out of   2 | elapsed:    0.0s remaining:    0.0s\n",
      "[Parallel(n_jobs=1)]: Done   3 out of   3 | elapsed:    0.0s remaining:    0.0s\n",
      "[Parallel(n_jobs=1)]: Done   4 out of   4 | elapsed:    0.0s remaining:    0.0s\n",
      "[Parallel(n_jobs=1)]: Done 220014 out of 220014 | elapsed:  1.8min finished\n",
      "/tmp/ipykernel_34995/4126073635.py:70: RuntimeWarning: This filename (/data/pt_02774/memory_grid/mg33/mg33ALL_epo_rsample_reject_filter_30_100.fif) does not conform to MNE naming conventions. All epochs files should end with -epo.fif, -epo.fif.gz, _epo.fif or _epo.fif.gz\n",
      "  epochs.save(fname_out, overwrite=True)\n"
     ]
    },
    {
     "name": "stdout",
     "output_type": "stream",
     "text": [
      "\n",
      "\n",
      "\n",
      "\n",
      "\n",
      "#######################################################################################\n",
      "Processing subject: mg34\n",
      "Reading /data/pt_02774/memory_grid/mg34/mg34ALL_epo_rsample_reject.fif ...\n"
     ]
    },
    {
     "name": "stderr",
     "output_type": "stream",
     "text": [
      "/tmp/ipykernel_34995/4126073635.py:63: RuntimeWarning: This filename (/data/pt_02774/memory_grid/mg34/mg34ALL_epo_rsample_reject.fif) does not conform to MNE naming conventions. All epochs files should end with -epo.fif, -epo.fif.gz, _epo.fif or _epo.fif.gz\n",
      "  epochs =  mne.read_epochs(fname_epo,\n"
     ]
    },
    {
     "name": "stdout",
     "output_type": "stream",
     "text": [
      "    Found the data of interest:\n",
      "        t =    -500.00 ...    8195.00 ms\n",
      "        0 CTF compensation matrices available\n",
      "Not setting metadata\n",
      "719 matching events found\n",
      "No baseline correction applied\n",
      "0 projection items activated\n",
      "Setting up band-pass filter from 2 - 30 Hz\n",
      "\n",
      "FIR filter parameters\n",
      "---------------------\n",
      "Designing a one-pass, zero-phase, non-causal bandpass filter:\n",
      "- Windowed time-domain design (firwin) method\n",
      "- Hamming window with 0.0194 passband ripple and 53 dB stopband attenuation\n",
      "- Lower passband edge: 2.00\n",
      "- Lower transition bandwidth: 2.00 Hz (-6 dB cutoff frequency: 1.00 Hz)\n",
      "- Upper passband edge: 30.00 Hz\n",
      "- Upper transition bandwidth: 7.50 Hz (-6 dB cutoff frequency: 33.75 Hz)\n",
      "- Filter length: 331 samples (1.655 sec)\n",
      "\n"
     ]
    },
    {
     "name": "stderr",
     "output_type": "stream",
     "text": [
      "[Parallel(n_jobs=1)]: Using backend SequentialBackend with 1 concurrent workers.\n",
      "[Parallel(n_jobs=1)]: Done   1 out of   1 | elapsed:    0.0s remaining:    0.0s\n",
      "[Parallel(n_jobs=1)]: Done   2 out of   2 | elapsed:    0.0s remaining:    0.0s\n",
      "[Parallel(n_jobs=1)]: Done   3 out of   3 | elapsed:    0.0s remaining:    0.0s\n",
      "[Parallel(n_jobs=1)]: Done   4 out of   4 | elapsed:    0.0s remaining:    0.0s\n",
      "[Parallel(n_jobs=1)]: Done 220014 out of 220014 | elapsed:  1.8min finished\n",
      "/tmp/ipykernel_34995/4126073635.py:70: RuntimeWarning: This filename (/data/pt_02774/memory_grid/mg34/mg34ALL_epo_rsample_reject_filter_30_100.fif) does not conform to MNE naming conventions. All epochs files should end with -epo.fif, -epo.fif.gz, _epo.fif or _epo.fif.gz\n",
      "  epochs.save(fname_out, overwrite=True)\n"
     ]
    },
    {
     "name": "stdout",
     "output_type": "stream",
     "text": [
      "\n",
      "\n",
      "\n",
      "\n",
      "\n",
      "#######################################################################################\n",
      "Processing subject: mg36\n",
      "Reading /data/pt_02774/memory_grid/mg36/mg36ALL_epo_rsample_reject.fif ...\n"
     ]
    },
    {
     "name": "stderr",
     "output_type": "stream",
     "text": [
      "/tmp/ipykernel_34995/4126073635.py:63: RuntimeWarning: This filename (/data/pt_02774/memory_grid/mg36/mg36ALL_epo_rsample_reject.fif) does not conform to MNE naming conventions. All epochs files should end with -epo.fif, -epo.fif.gz, _epo.fif or _epo.fif.gz\n",
      "  epochs =  mne.read_epochs(fname_epo,\n"
     ]
    },
    {
     "name": "stdout",
     "output_type": "stream",
     "text": [
      "    Found the data of interest:\n",
      "        t =    -500.00 ...    8195.00 ms\n",
      "        0 CTF compensation matrices available\n",
      "Not setting metadata\n",
      "714 matching events found\n",
      "No baseline correction applied\n",
      "0 projection items activated\n",
      "Setting up band-pass filter from 2 - 30 Hz\n",
      "\n",
      "FIR filter parameters\n",
      "---------------------\n",
      "Designing a one-pass, zero-phase, non-causal bandpass filter:\n",
      "- Windowed time-domain design (firwin) method\n",
      "- Hamming window with 0.0194 passband ripple and 53 dB stopband attenuation\n",
      "- Lower passband edge: 2.00\n",
      "- Lower transition bandwidth: 2.00 Hz (-6 dB cutoff frequency: 1.00 Hz)\n",
      "- Upper passband edge: 30.00 Hz\n",
      "- Upper transition bandwidth: 7.50 Hz (-6 dB cutoff frequency: 33.75 Hz)\n",
      "- Filter length: 331 samples (1.655 sec)\n",
      "\n"
     ]
    },
    {
     "name": "stderr",
     "output_type": "stream",
     "text": [
      "[Parallel(n_jobs=1)]: Using backend SequentialBackend with 1 concurrent workers.\n",
      "[Parallel(n_jobs=1)]: Done   1 out of   1 | elapsed:    0.0s remaining:    0.0s\n",
      "[Parallel(n_jobs=1)]: Done   2 out of   2 | elapsed:    0.0s remaining:    0.0s\n",
      "[Parallel(n_jobs=1)]: Done   3 out of   3 | elapsed:    0.0s remaining:    0.0s\n",
      "[Parallel(n_jobs=1)]: Done   4 out of   4 | elapsed:    0.0s remaining:    0.0s\n",
      "[Parallel(n_jobs=1)]: Done 218484 out of 218484 | elapsed:  2.0min finished\n",
      "/tmp/ipykernel_34995/4126073635.py:70: RuntimeWarning: This filename (/data/pt_02774/memory_grid/mg36/mg36ALL_epo_rsample_reject_filter_30_100.fif) does not conform to MNE naming conventions. All epochs files should end with -epo.fif, -epo.fif.gz, _epo.fif or _epo.fif.gz\n",
      "  epochs.save(fname_out, overwrite=True)\n"
     ]
    },
    {
     "name": "stdout",
     "output_type": "stream",
     "text": [
      "\n",
      "\n",
      "\n",
      "\n",
      "\n",
      "#######################################################################################\n",
      "Processing subject: mg37\n",
      "Reading /data/pt_02774/memory_grid/mg37/mg37ALL_epo_rsample_reject.fif ...\n"
     ]
    },
    {
     "name": "stderr",
     "output_type": "stream",
     "text": [
      "/tmp/ipykernel_34995/4126073635.py:63: RuntimeWarning: This filename (/data/pt_02774/memory_grid/mg37/mg37ALL_epo_rsample_reject.fif) does not conform to MNE naming conventions. All epochs files should end with -epo.fif, -epo.fif.gz, _epo.fif or _epo.fif.gz\n",
      "  epochs =  mne.read_epochs(fname_epo,\n"
     ]
    },
    {
     "name": "stdout",
     "output_type": "stream",
     "text": [
      "    Found the data of interest:\n",
      "        t =    -500.00 ...    8195.00 ms\n",
      "        0 CTF compensation matrices available\n",
      "Not setting metadata\n",
      "718 matching events found\n",
      "No baseline correction applied\n",
      "0 projection items activated\n",
      "Setting up band-pass filter from 2 - 30 Hz\n",
      "\n",
      "FIR filter parameters\n",
      "---------------------\n",
      "Designing a one-pass, zero-phase, non-causal bandpass filter:\n",
      "- Windowed time-domain design (firwin) method\n",
      "- Hamming window with 0.0194 passband ripple and 53 dB stopband attenuation\n",
      "- Lower passband edge: 2.00\n",
      "- Lower transition bandwidth: 2.00 Hz (-6 dB cutoff frequency: 1.00 Hz)\n",
      "- Upper passband edge: 30.00 Hz\n",
      "- Upper transition bandwidth: 7.50 Hz (-6 dB cutoff frequency: 33.75 Hz)\n",
      "- Filter length: 331 samples (1.655 sec)\n",
      "\n"
     ]
    },
    {
     "name": "stderr",
     "output_type": "stream",
     "text": [
      "[Parallel(n_jobs=1)]: Using backend SequentialBackend with 1 concurrent workers.\n",
      "[Parallel(n_jobs=1)]: Done   1 out of   1 | elapsed:    0.0s remaining:    0.0s\n",
      "[Parallel(n_jobs=1)]: Done   2 out of   2 | elapsed:    0.0s remaining:    0.0s\n",
      "[Parallel(n_jobs=1)]: Done   3 out of   3 | elapsed:    0.0s remaining:    0.0s\n",
      "[Parallel(n_jobs=1)]: Done   4 out of   4 | elapsed:    0.0s remaining:    0.0s\n",
      "[Parallel(n_jobs=1)]: Done 219708 out of 219708 | elapsed:  1.8min finished\n",
      "/tmp/ipykernel_34995/4126073635.py:70: RuntimeWarning: This filename (/data/pt_02774/memory_grid/mg37/mg37ALL_epo_rsample_reject_filter_30_100.fif) does not conform to MNE naming conventions. All epochs files should end with -epo.fif, -epo.fif.gz, _epo.fif or _epo.fif.gz\n",
      "  epochs.save(fname_out, overwrite=True)\n"
     ]
    },
    {
     "name": "stdout",
     "output_type": "stream",
     "text": [
      "\n",
      "\n",
      "\n",
      "\n",
      "\n",
      "#######################################################################################\n",
      "Processing subject: mg38\n",
      "Reading /data/pt_02774/memory_grid/mg38/mg38ALL_epo_rsample_reject.fif ...\n"
     ]
    },
    {
     "name": "stderr",
     "output_type": "stream",
     "text": [
      "/tmp/ipykernel_34995/4126073635.py:63: RuntimeWarning: This filename (/data/pt_02774/memory_grid/mg38/mg38ALL_epo_rsample_reject.fif) does not conform to MNE naming conventions. All epochs files should end with -epo.fif, -epo.fif.gz, _epo.fif or _epo.fif.gz\n",
      "  epochs =  mne.read_epochs(fname_epo,\n"
     ]
    },
    {
     "name": "stdout",
     "output_type": "stream",
     "text": [
      "    Found the data of interest:\n",
      "        t =    -500.00 ...    8195.00 ms\n",
      "        0 CTF compensation matrices available\n",
      "Not setting metadata\n",
      "713 matching events found\n",
      "No baseline correction applied\n",
      "0 projection items activated\n",
      "Setting up band-pass filter from 2 - 30 Hz\n",
      "\n",
      "FIR filter parameters\n",
      "---------------------\n",
      "Designing a one-pass, zero-phase, non-causal bandpass filter:\n",
      "- Windowed time-domain design (firwin) method\n",
      "- Hamming window with 0.0194 passband ripple and 53 dB stopband attenuation\n",
      "- Lower passband edge: 2.00\n",
      "- Lower transition bandwidth: 2.00 Hz (-6 dB cutoff frequency: 1.00 Hz)\n",
      "- Upper passband edge: 30.00 Hz\n",
      "- Upper transition bandwidth: 7.50 Hz (-6 dB cutoff frequency: 33.75 Hz)\n",
      "- Filter length: 331 samples (1.655 sec)\n",
      "\n"
     ]
    },
    {
     "name": "stderr",
     "output_type": "stream",
     "text": [
      "[Parallel(n_jobs=1)]: Using backend SequentialBackend with 1 concurrent workers.\n",
      "[Parallel(n_jobs=1)]: Done   1 out of   1 | elapsed:    0.0s remaining:    0.0s\n",
      "[Parallel(n_jobs=1)]: Done   2 out of   2 | elapsed:    0.0s remaining:    0.0s\n",
      "[Parallel(n_jobs=1)]: Done   3 out of   3 | elapsed:    0.0s remaining:    0.0s\n",
      "[Parallel(n_jobs=1)]: Done   4 out of   4 | elapsed:    0.0s remaining:    0.0s\n",
      "[Parallel(n_jobs=1)]: Done 218178 out of 218178 | elapsed:  1.8min finished\n",
      "/tmp/ipykernel_34995/4126073635.py:70: RuntimeWarning: This filename (/data/pt_02774/memory_grid/mg38/mg38ALL_epo_rsample_reject_filter_30_100.fif) does not conform to MNE naming conventions. All epochs files should end with -epo.fif, -epo.fif.gz, _epo.fif or _epo.fif.gz\n",
      "  epochs.save(fname_out, overwrite=True)\n"
     ]
    },
    {
     "name": "stdout",
     "output_type": "stream",
     "text": [
      "\n",
      "\n",
      "\n",
      "\n",
      "\n",
      "#######################################################################################\n",
      "Processing subject: mg40\n",
      "Reading /data/pt_02774/memory_grid/mg40/mg40ALL_epo_rsample_reject.fif ...\n"
     ]
    },
    {
     "name": "stderr",
     "output_type": "stream",
     "text": [
      "/tmp/ipykernel_34995/4126073635.py:63: RuntimeWarning: This filename (/data/pt_02774/memory_grid/mg40/mg40ALL_epo_rsample_reject.fif) does not conform to MNE naming conventions. All epochs files should end with -epo.fif, -epo.fif.gz, _epo.fif or _epo.fif.gz\n",
      "  epochs =  mne.read_epochs(fname_epo,\n"
     ]
    },
    {
     "name": "stdout",
     "output_type": "stream",
     "text": [
      "    Found the data of interest:\n",
      "        t =    -500.00 ...    8195.00 ms\n",
      "        0 CTF compensation matrices available\n",
      "Not setting metadata\n",
      "718 matching events found\n",
      "No baseline correction applied\n",
      "0 projection items activated\n",
      "Setting up band-pass filter from 2 - 30 Hz\n",
      "\n",
      "FIR filter parameters\n",
      "---------------------\n",
      "Designing a one-pass, zero-phase, non-causal bandpass filter:\n",
      "- Windowed time-domain design (firwin) method\n",
      "- Hamming window with 0.0194 passband ripple and 53 dB stopband attenuation\n",
      "- Lower passband edge: 2.00\n",
      "- Lower transition bandwidth: 2.00 Hz (-6 dB cutoff frequency: 1.00 Hz)\n",
      "- Upper passband edge: 30.00 Hz\n",
      "- Upper transition bandwidth: 7.50 Hz (-6 dB cutoff frequency: 33.75 Hz)\n",
      "- Filter length: 331 samples (1.655 sec)\n",
      "\n"
     ]
    },
    {
     "name": "stderr",
     "output_type": "stream",
     "text": [
      "[Parallel(n_jobs=1)]: Using backend SequentialBackend with 1 concurrent workers.\n",
      "[Parallel(n_jobs=1)]: Done   1 out of   1 | elapsed:    0.0s remaining:    0.0s\n",
      "[Parallel(n_jobs=1)]: Done   2 out of   2 | elapsed:    0.0s remaining:    0.0s\n",
      "[Parallel(n_jobs=1)]: Done   3 out of   3 | elapsed:    0.0s remaining:    0.0s\n",
      "[Parallel(n_jobs=1)]: Done   4 out of   4 | elapsed:    0.0s remaining:    0.0s\n",
      "[Parallel(n_jobs=1)]: Done 219708 out of 219708 | elapsed:  1.9min finished\n",
      "/tmp/ipykernel_34995/4126073635.py:70: RuntimeWarning: This filename (/data/pt_02774/memory_grid/mg40/mg40ALL_epo_rsample_reject_filter_30_100.fif) does not conform to MNE naming conventions. All epochs files should end with -epo.fif, -epo.fif.gz, _epo.fif or _epo.fif.gz\n",
      "  epochs.save(fname_out, overwrite=True)\n"
     ]
    },
    {
     "name": "stdout",
     "output_type": "stream",
     "text": [
      "\n",
      "\n",
      "\n",
      "\n",
      "\n",
      "#######################################################################################\n",
      "Processing subject: mg41\n",
      "Reading /data/pt_02774/memory_grid/mg41/mg41ALL_epo_rsample_reject.fif ...\n"
     ]
    },
    {
     "name": "stderr",
     "output_type": "stream",
     "text": [
      "/tmp/ipykernel_34995/4126073635.py:63: RuntimeWarning: This filename (/data/pt_02774/memory_grid/mg41/mg41ALL_epo_rsample_reject.fif) does not conform to MNE naming conventions. All epochs files should end with -epo.fif, -epo.fif.gz, _epo.fif or _epo.fif.gz\n",
      "  epochs =  mne.read_epochs(fname_epo,\n"
     ]
    },
    {
     "name": "stdout",
     "output_type": "stream",
     "text": [
      "    Found the data of interest:\n",
      "        t =    -500.00 ...    8195.00 ms\n",
      "        0 CTF compensation matrices available\n",
      "Not setting metadata\n",
      "717 matching events found\n",
      "No baseline correction applied\n",
      "0 projection items activated\n",
      "Setting up band-pass filter from 2 - 30 Hz\n",
      "\n",
      "FIR filter parameters\n",
      "---------------------\n",
      "Designing a one-pass, zero-phase, non-causal bandpass filter:\n",
      "- Windowed time-domain design (firwin) method\n",
      "- Hamming window with 0.0194 passband ripple and 53 dB stopband attenuation\n",
      "- Lower passband edge: 2.00\n",
      "- Lower transition bandwidth: 2.00 Hz (-6 dB cutoff frequency: 1.00 Hz)\n",
      "- Upper passband edge: 30.00 Hz\n",
      "- Upper transition bandwidth: 7.50 Hz (-6 dB cutoff frequency: 33.75 Hz)\n",
      "- Filter length: 331 samples (1.655 sec)\n",
      "\n"
     ]
    },
    {
     "name": "stderr",
     "output_type": "stream",
     "text": [
      "[Parallel(n_jobs=1)]: Using backend SequentialBackend with 1 concurrent workers.\n",
      "[Parallel(n_jobs=1)]: Done   1 out of   1 | elapsed:    0.0s remaining:    0.0s\n",
      "[Parallel(n_jobs=1)]: Done   2 out of   2 | elapsed:    0.0s remaining:    0.0s\n",
      "[Parallel(n_jobs=1)]: Done   3 out of   3 | elapsed:    0.0s remaining:    0.0s\n",
      "[Parallel(n_jobs=1)]: Done   4 out of   4 | elapsed:    0.0s remaining:    0.0s\n",
      "[Parallel(n_jobs=1)]: Done 219402 out of 219402 | elapsed:  1.8min finished\n",
      "/tmp/ipykernel_34995/4126073635.py:70: RuntimeWarning: This filename (/data/pt_02774/memory_grid/mg41/mg41ALL_epo_rsample_reject_filter_30_100.fif) does not conform to MNE naming conventions. All epochs files should end with -epo.fif, -epo.fif.gz, _epo.fif or _epo.fif.gz\n",
      "  epochs.save(fname_out, overwrite=True)\n"
     ]
    },
    {
     "name": "stdout",
     "output_type": "stream",
     "text": [
      "\n",
      "\n",
      "\n",
      "\n",
      "\n",
      "#######################################################################################\n",
      "Processing subject: mg44\n",
      "Reading /data/pt_02774/memory_grid/mg44/mg44ALL_epo_rsample_reject.fif ...\n"
     ]
    },
    {
     "name": "stderr",
     "output_type": "stream",
     "text": [
      "/tmp/ipykernel_34995/4126073635.py:63: RuntimeWarning: This filename (/data/pt_02774/memory_grid/mg44/mg44ALL_epo_rsample_reject.fif) does not conform to MNE naming conventions. All epochs files should end with -epo.fif, -epo.fif.gz, _epo.fif or _epo.fif.gz\n",
      "  epochs =  mne.read_epochs(fname_epo,\n"
     ]
    },
    {
     "name": "stdout",
     "output_type": "stream",
     "text": [
      "    Found the data of interest:\n",
      "        t =    -500.00 ...    8195.00 ms\n",
      "        0 CTF compensation matrices available\n",
      "Not setting metadata\n",
      "717 matching events found\n",
      "No baseline correction applied\n",
      "0 projection items activated\n",
      "Setting up band-pass filter from 2 - 30 Hz\n",
      "\n",
      "FIR filter parameters\n",
      "---------------------\n",
      "Designing a one-pass, zero-phase, non-causal bandpass filter:\n",
      "- Windowed time-domain design (firwin) method\n",
      "- Hamming window with 0.0194 passband ripple and 53 dB stopband attenuation\n",
      "- Lower passband edge: 2.00\n",
      "- Lower transition bandwidth: 2.00 Hz (-6 dB cutoff frequency: 1.00 Hz)\n",
      "- Upper passband edge: 30.00 Hz\n",
      "- Upper transition bandwidth: 7.50 Hz (-6 dB cutoff frequency: 33.75 Hz)\n",
      "- Filter length: 331 samples (1.655 sec)\n",
      "\n"
     ]
    },
    {
     "name": "stderr",
     "output_type": "stream",
     "text": [
      "[Parallel(n_jobs=1)]: Using backend SequentialBackend with 1 concurrent workers.\n",
      "[Parallel(n_jobs=1)]: Done   1 out of   1 | elapsed:    0.0s remaining:    0.0s\n",
      "[Parallel(n_jobs=1)]: Done   2 out of   2 | elapsed:    0.0s remaining:    0.0s\n",
      "[Parallel(n_jobs=1)]: Done   3 out of   3 | elapsed:    0.0s remaining:    0.0s\n",
      "[Parallel(n_jobs=1)]: Done   4 out of   4 | elapsed:    0.0s remaining:    0.0s\n",
      "[Parallel(n_jobs=1)]: Done 219402 out of 219402 | elapsed:  1.8min finished\n",
      "/tmp/ipykernel_34995/4126073635.py:70: RuntimeWarning: This filename (/data/pt_02774/memory_grid/mg44/mg44ALL_epo_rsample_reject_filter_30_100.fif) does not conform to MNE naming conventions. All epochs files should end with -epo.fif, -epo.fif.gz, _epo.fif or _epo.fif.gz\n",
      "  epochs.save(fname_out, overwrite=True)\n"
     ]
    },
    {
     "name": "stdout",
     "output_type": "stream",
     "text": [
      "\n",
      "\n",
      "\n",
      "\n",
      "\n",
      "#######################################################################################\n",
      "Processing subject: mg45\n",
      "Reading /data/pt_02774/memory_grid/mg45/mg45ALL_epo_rsample_reject.fif ...\n"
     ]
    },
    {
     "name": "stderr",
     "output_type": "stream",
     "text": [
      "/tmp/ipykernel_34995/4126073635.py:63: RuntimeWarning: This filename (/data/pt_02774/memory_grid/mg45/mg45ALL_epo_rsample_reject.fif) does not conform to MNE naming conventions. All epochs files should end with -epo.fif, -epo.fif.gz, _epo.fif or _epo.fif.gz\n",
      "  epochs =  mne.read_epochs(fname_epo,\n"
     ]
    },
    {
     "name": "stdout",
     "output_type": "stream",
     "text": [
      "    Found the data of interest:\n",
      "        t =    -500.00 ...    8195.00 ms\n",
      "        0 CTF compensation matrices available\n",
      "Not setting metadata\n",
      "716 matching events found\n",
      "No baseline correction applied\n",
      "0 projection items activated\n",
      "Setting up band-pass filter from 2 - 30 Hz\n",
      "\n",
      "FIR filter parameters\n",
      "---------------------\n",
      "Designing a one-pass, zero-phase, non-causal bandpass filter:\n",
      "- Windowed time-domain design (firwin) method\n",
      "- Hamming window with 0.0194 passband ripple and 53 dB stopband attenuation\n",
      "- Lower passband edge: 2.00\n",
      "- Lower transition bandwidth: 2.00 Hz (-6 dB cutoff frequency: 1.00 Hz)\n",
      "- Upper passband edge: 30.00 Hz\n",
      "- Upper transition bandwidth: 7.50 Hz (-6 dB cutoff frequency: 33.75 Hz)\n",
      "- Filter length: 331 samples (1.655 sec)\n",
      "\n"
     ]
    },
    {
     "name": "stderr",
     "output_type": "stream",
     "text": [
      "[Parallel(n_jobs=1)]: Using backend SequentialBackend with 1 concurrent workers.\n",
      "[Parallel(n_jobs=1)]: Done   1 out of   1 | elapsed:    0.0s remaining:    0.0s\n",
      "[Parallel(n_jobs=1)]: Done   2 out of   2 | elapsed:    0.0s remaining:    0.0s\n",
      "[Parallel(n_jobs=1)]: Done   3 out of   3 | elapsed:    0.0s remaining:    0.0s\n",
      "[Parallel(n_jobs=1)]: Done   4 out of   4 | elapsed:    0.0s remaining:    0.0s\n",
      "[Parallel(n_jobs=1)]: Done 219096 out of 219096 | elapsed:  1.9min finished\n",
      "/tmp/ipykernel_34995/4126073635.py:70: RuntimeWarning: This filename (/data/pt_02774/memory_grid/mg45/mg45ALL_epo_rsample_reject_filter_30_100.fif) does not conform to MNE naming conventions. All epochs files should end with -epo.fif, -epo.fif.gz, _epo.fif or _epo.fif.gz\n",
      "  epochs.save(fname_out, overwrite=True)\n"
     ]
    },
    {
     "name": "stdout",
     "output_type": "stream",
     "text": [
      "\n",
      "\n",
      "\n",
      "\n",
      "\n",
      "#######################################################################################\n",
      "Processing subject: mg46\n",
      "Reading /data/pt_02774/memory_grid/mg46/mg46ALL_epo_rsample_reject.fif ...\n"
     ]
    },
    {
     "name": "stderr",
     "output_type": "stream",
     "text": [
      "/tmp/ipykernel_34995/4126073635.py:63: RuntimeWarning: This filename (/data/pt_02774/memory_grid/mg46/mg46ALL_epo_rsample_reject.fif) does not conform to MNE naming conventions. All epochs files should end with -epo.fif, -epo.fif.gz, _epo.fif or _epo.fif.gz\n",
      "  epochs =  mne.read_epochs(fname_epo,\n"
     ]
    },
    {
     "name": "stdout",
     "output_type": "stream",
     "text": [
      "    Found the data of interest:\n",
      "        t =    -500.00 ...    8195.00 ms\n",
      "        0 CTF compensation matrices available\n",
      "Not setting metadata\n",
      "720 matching events found\n",
      "No baseline correction applied\n",
      "0 projection items activated\n",
      "Setting up band-pass filter from 2 - 30 Hz\n",
      "\n",
      "FIR filter parameters\n",
      "---------------------\n",
      "Designing a one-pass, zero-phase, non-causal bandpass filter:\n",
      "- Windowed time-domain design (firwin) method\n",
      "- Hamming window with 0.0194 passband ripple and 53 dB stopband attenuation\n",
      "- Lower passband edge: 2.00\n",
      "- Lower transition bandwidth: 2.00 Hz (-6 dB cutoff frequency: 1.00 Hz)\n",
      "- Upper passband edge: 30.00 Hz\n",
      "- Upper transition bandwidth: 7.50 Hz (-6 dB cutoff frequency: 33.75 Hz)\n",
      "- Filter length: 331 samples (1.655 sec)\n",
      "\n"
     ]
    },
    {
     "name": "stderr",
     "output_type": "stream",
     "text": [
      "[Parallel(n_jobs=1)]: Using backend SequentialBackend with 1 concurrent workers.\n",
      "[Parallel(n_jobs=1)]: Done   1 out of   1 | elapsed:    0.0s remaining:    0.0s\n",
      "[Parallel(n_jobs=1)]: Done   2 out of   2 | elapsed:    0.0s remaining:    0.0s\n",
      "[Parallel(n_jobs=1)]: Done   3 out of   3 | elapsed:    0.0s remaining:    0.0s\n",
      "[Parallel(n_jobs=1)]: Done   4 out of   4 | elapsed:    0.0s remaining:    0.0s\n",
      "[Parallel(n_jobs=1)]: Done 220320 out of 220320 | elapsed:  2.1min finished\n",
      "/tmp/ipykernel_34995/4126073635.py:70: RuntimeWarning: This filename (/data/pt_02774/memory_grid/mg46/mg46ALL_epo_rsample_reject_filter_30_100.fif) does not conform to MNE naming conventions. All epochs files should end with -epo.fif, -epo.fif.gz, _epo.fif or _epo.fif.gz\n",
      "  epochs.save(fname_out, overwrite=True)\n"
     ]
    },
    {
     "name": "stdout",
     "output_type": "stream",
     "text": [
      "\n",
      "\n",
      "\n",
      "\n",
      "\n",
      "#######################################################################################\n",
      "Processing subject: mg47\n",
      "Reading /data/pt_02774/memory_grid/mg47/mg47ALL_epo_rsample_reject.fif ...\n"
     ]
    },
    {
     "name": "stderr",
     "output_type": "stream",
     "text": [
      "/tmp/ipykernel_34995/4126073635.py:63: RuntimeWarning: This filename (/data/pt_02774/memory_grid/mg47/mg47ALL_epo_rsample_reject.fif) does not conform to MNE naming conventions. All epochs files should end with -epo.fif, -epo.fif.gz, _epo.fif or _epo.fif.gz\n",
      "  epochs =  mne.read_epochs(fname_epo,\n"
     ]
    },
    {
     "name": "stdout",
     "output_type": "stream",
     "text": [
      "    Found the data of interest:\n",
      "        t =    -500.00 ...    8195.00 ms\n",
      "        0 CTF compensation matrices available\n",
      "Not setting metadata\n",
      "716 matching events found\n",
      "No baseline correction applied\n",
      "0 projection items activated\n",
      "Setting up band-pass filter from 2 - 30 Hz\n",
      "\n",
      "FIR filter parameters\n",
      "---------------------\n",
      "Designing a one-pass, zero-phase, non-causal bandpass filter:\n",
      "- Windowed time-domain design (firwin) method\n",
      "- Hamming window with 0.0194 passband ripple and 53 dB stopband attenuation\n",
      "- Lower passband edge: 2.00\n",
      "- Lower transition bandwidth: 2.00 Hz (-6 dB cutoff frequency: 1.00 Hz)\n",
      "- Upper passband edge: 30.00 Hz\n",
      "- Upper transition bandwidth: 7.50 Hz (-6 dB cutoff frequency: 33.75 Hz)\n",
      "- Filter length: 331 samples (1.655 sec)\n",
      "\n"
     ]
    },
    {
     "name": "stderr",
     "output_type": "stream",
     "text": [
      "[Parallel(n_jobs=1)]: Using backend SequentialBackend with 1 concurrent workers.\n",
      "[Parallel(n_jobs=1)]: Done   1 out of   1 | elapsed:    0.0s remaining:    0.0s\n",
      "[Parallel(n_jobs=1)]: Done   2 out of   2 | elapsed:    0.0s remaining:    0.0s\n",
      "[Parallel(n_jobs=1)]: Done   3 out of   3 | elapsed:    0.0s remaining:    0.0s\n",
      "[Parallel(n_jobs=1)]: Done   4 out of   4 | elapsed:    0.0s remaining:    0.0s\n",
      "[Parallel(n_jobs=1)]: Done 219096 out of 219096 | elapsed:  1.8min finished\n",
      "/tmp/ipykernel_34995/4126073635.py:70: RuntimeWarning: This filename (/data/pt_02774/memory_grid/mg47/mg47ALL_epo_rsample_reject_filter_30_100.fif) does not conform to MNE naming conventions. All epochs files should end with -epo.fif, -epo.fif.gz, _epo.fif or _epo.fif.gz\n",
      "  epochs.save(fname_out, overwrite=True)\n"
     ]
    }
   ],
   "source": [
    "# %load config.py\n",
    "\"\"\"\n",
    "===========\n",
    "Config file\n",
    "===========\n",
    "\n",
    "Configurate the parameters of the study.\n",
    "\"\"\"\n",
    "\n",
    "for subject_id in subject_list[:]:\n",
    "\n",
    "    # =============================================================================\n",
    "    # SESSION-SPECIFIC SETTINGS\n",
    "    # =============================================================================\n",
    "    # Set filename based on experiment number\n",
    "    \n",
    "    if subject_id == 'mg37':\n",
    "        \n",
    "        file_exts = ['%sb07',\n",
    "                     '%sb08',\n",
    "                     '%sb09',\n",
    "                     '%sb10',\n",
    "                     '%sb11',\n",
    "                     '%sb12',\n",
    "                     '%sc01',\n",
    "                     '%sc02',\n",
    "                     '%sc03',\n",
    "                     '%sc04',\n",
    "                     '%sc05',\n",
    "                     '%sc06']\n",
    "\n",
    "    else:\n",
    "        file_exts = ['%sa01',\n",
    "                     '%sa02',\n",
    "                     '%sa03',\n",
    "                     '%sa04',\n",
    "                     '%sa05',\n",
    "                     '%sa06',\n",
    "                     '%sb07',\n",
    "                     '%sb08',\n",
    "                     '%sb09',\n",
    "                     '%sb10',\n",
    "                     '%sb11',\n",
    "                     '%sb12']#,\n",
    "\n",
    "    file_names = [f % (subject_id) for f in file_exts]\n",
    "\n",
    "\n",
    "    # =============================================================================\n",
    "    # GENERAL SETTINGS\n",
    "    # =============================================================================\n",
    "\n",
    "    print('\\n\\n\\n\\n\\n#######################################################################################')\n",
    "    print(\"Processing subject: %s\" % subject_id)\n",
    "    \n",
    "    data_path = os.path.join(rawdir,subject_id)\n",
    "    out_path = os.path.join(rawdir,subject_id)\n",
    "    if not op.exists(out_path):\n",
    "        os.mkdir(out_path)\n",
    "    file_name = (subject_id+ 'ALL_epo_rsample_reject')\n",
    "    fname_epo = op.join(data_path,\n",
    "                            file_name+'.fif')\n",
    "    epochs =  mne.read_epochs(fname_epo,\n",
    "                          preload = True,\n",
    "                          verbose = True)\n",
    "    epochs.filter(2, 30)\n",
    "    epochs.resample(100)\n",
    "    fname_out = op.join(out_path,\n",
    "                            file_name  + '_filter_30_100.fif')\n",
    "    epochs.save(fname_out, overwrite=True)\n",
    "    "
   ]
  }
 ],
 "metadata": {
  "kernelspec": {
   "display_name": "Python 3",
   "language": "python",
   "name": "python3"
  },
  "language_info": {
   "codemirror_mode": {
    "name": "ipython",
    "version": 3
   },
   "file_extension": ".py",
   "mimetype": "text/x-python",
   "name": "python",
   "nbconvert_exporter": "python",
   "pygments_lexer": "ipython3",
   "version": "3.10.10"
  }
 },
 "nbformat": 4,
 "nbformat_minor": 2
}
